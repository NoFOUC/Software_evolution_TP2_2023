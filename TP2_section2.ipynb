{
 "cells": [
  {
   "cell_type": "markdown",
   "id": "978a24fe-cb2e-4efc-a2e5-28e910e871d2",
   "metadata": {},
   "source": [
    "# Software Evolution - Practical Session\n",
    "## Laws of software evolution, code counting, code duplication and dependency analysis\n",
    "## Academic year 2022-2023"
   ]
  },
  {
   "cell_type": "code",
   "execution_count": 169,
   "outputs": [],
   "source": [],
   "metadata": {
    "collapsed": false,
    "pycharm": {
     "name": "#%%\n"
    }
   }
  },
  {
   "cell_type": "markdown",
   "id": "57eb142c-d3ef-4d5e-94cb-d521369b384b",
   "metadata": {},
   "source": [
    "### Write your answers under the questions that are present in this notebook  \n",
    "\n",
    "### Read Section 1 and Section 2 in the provided description document before proceeding with the following section "
   ]
  },
  {
   "cell_type": "code",
   "execution_count": 170,
   "id": "55d3a082-512b-40e6-95bf-27191ea9aaaa",
   "metadata": {},
   "outputs": [],
   "source": [
    "import os\n",
    "import json\n",
    "from tqdm import tqdm\n",
    "import pandas as pd\n",
    "import numpy as np\n",
    "import matplotlib.pyplot as plt\n",
    "import subprocess\n",
    "import math\n",
    "from pandas import option_context\n",
    "from sklearn.linear_model import LinearRegression\n",
    "from sklearn.preprocessing import PolynomialFeatures"
   ]
  },
  {
   "cell_type": "code",
   "execution_count": 170,
   "outputs": [],
   "source": [],
   "metadata": {
    "collapsed": false,
    "pycharm": {
     "name": "#%%\n"
    }
   }
  },
  {
   "cell_type": "markdown",
   "id": "6d83b58e-d5ad-4004-8cc5-e4b31721bb12",
   "metadata": {},
   "source": [
    "## 2. Verifying laws of software evolution"
   ]
  },
  {
   "cell_type": "code",
   "execution_count": 171,
   "id": "0f76117a-1a18-4cb5-8ed0-3fa9cfdfc31c",
   "metadata": {},
   "outputs": [],
   "source": [
    "#Enter the path where the Eucalyptus project is present\n",
    "eucalyptus_project_path = '../eucalyptus'"
   ]
  },
  {
   "cell_type": "markdown",
   "id": "081450a6-87af-484c-8a64-56d49eccff80",
   "metadata": {},
   "source": [
    "### 2.1 Data prepocessing\n",
    "1. Get all the tags present in the eucalyptus project using CLOC\n",
    "2. Filter out the tags that do not correspond to official releases"
   ]
  },
  {
   "cell_type": "markdown",
   "id": "340322a1-719b-472b-8b2a-40c974224c1c",
   "metadata": {},
   "source": [
    "Code hint:  \n",
    "To get the tags that are present in the project - \"command = f'git -C {eucalyptus_project_path} tag -l --format=\"%(refname:short)\" | sort -r'\"   \n",
    "To read the terminal output - 'process = subprocess.Popen(command, stdout=subprocess.PIPE, shell=True)'"
   ]
  },
  {
   "cell_type": "code",
   "execution_count": 172,
   "id": "8cede273-9ee7-4e38-b340-9ad4eca08c18",
   "metadata": {},
   "outputs": [
    {
     "name": "stdout",
     "output_type": "stream",
     "text": [
      "['v4.4.2', 'v4.4.1', 'v4.4.0', 'v4.3.1.1', 'v4.3.1', 'v4.3.0.1', 'v4.3.0', 'v4.2.2', 'v4.2.1', 'v4.2.0', 'v4.1.2', 'v4.1.1', 'v4.1.0', 'v4.0.2', 'v4.0.1', 'v4.0.0', 'karmic', 'jaunty', 'ha-baseline', '3.4.2', '3.4.1', '3.4.0', '3.3.2', '3.3.1', '3.3.0.1', '3.3.0', '3.3-m6', '3.3-m5', '3.3-m4', '3.3-m3', '3.3-m2', '3.3-m1', '3.2.2', '3.2.1', '3.2.0', '3.1.2', '3.1.1', '3.1.0', '3.1-beta1', '3.1-alpha2', '3.0.1', '3.0.0', '3.0-rc3', '3.0-rc2', '3.0-rc1', '3.0-beta6', '3.0-beta5', '3.0-beta4', '3.0-beta3', '3.0-beta2', '3.0-alpha1', '2.0.1', '2.0.0', '2.0-branch', '2.0-beta', '1.6.1', '1.5.2', '1.5.1', '1.5.0', '1.4', '1.0-beta']\n"
     ]
    }
   ],
   "source": [
    "command = f'git -C {eucalyptus_project_path} tag -l --format=\"%(refname:short)\" | sort -r'\n",
    "process = subprocess.Popen(command, stdout=subprocess.PIPE, shell=True)\n",
    "all_tags= list(line.strip().decode(\"utf-8\") for line in process.stdout)\n",
    "print (all_tags)"
   ]
  },
  {
   "cell_type": "code",
   "execution_count": 173,
   "id": "e8ed2aea-5e29-4cfa-82fa-f43e233fb5ee",
   "metadata": {},
   "outputs": [],
   "source": [
    "major_minor_patch_versions = ['1.4','1.5.0','1.5.1','1.5.2','1.6.1','2.0.0','2.0.1','3.0.0','3.0.1','3.1.0','3.1.1','3.1.2','3.2.0','3.2.1',\n",
    "                              '3.2.2','3.3.0','3.3.1','3.3.2','3.4.0','3.4.1','3.4.2','v4.0.0','v4.0.1','v4.0.2','v4.1.0','v4.1.1','v4.1.2',\n",
    "                              'v4.2.0','v4.2.1','v4.2.2','v4.3.0','v4.3.1','v4.4.0','v4.4.1','v4.4.2']\n",
    "major_minor_versions = ['1.4','1.5.0','1.6.1','2.0.0','3.0.0','3.1.0','3.2.0','3.3.0','3.4.0','v4.0.0','v4.1.0','v4.2.0','v4.3.0','v4.4.0']"
   ]
  },
  {
   "cell_type": "markdown",
   "id": "aca20a9c-4269-42e0-82d0-ff33d9fe9b30",
   "metadata": {},
   "source": [
    "### 2.2 Law of Increasing Growth\n",
    "1. Fetch the required data (lines of code, blank lines, comment lines and number of files) for each tag along with their release date using CLOC\n",
    "2. Separate the data as following (also mentioned in section 2.1 of the description document)  \n",
    "    a) Consider all the three-component versions (major.minor.patch) - Dataset A  \n",
    "    b) Consider only the minor versions (major.minor) - Dataset B  \n",
    "\n",
    "Note: For example, if there exists any tag like 2.1.0.1, then you can consider it as 2.1.0 provided such a tag does not exist in the data. If both 2.1.0 and 2.1.0.1 exists, then you can ignore the latter "
   ]
  },
  {
   "cell_type": "markdown",
   "id": "cbab47f1-933d-4b28-8a35-f7c3e82cd15c",
   "metadata": {},
   "source": [
    "Code hint:  \n",
    "To set the project to a required tag - \"command = f'git -C {project_path} reset --hard {tag}'\"  \n",
    "For each tag, pass the command to the terminal, invoke cloc tool to get the necessary data in the required format (json, md,...), read the terminal output and store the data"
   ]
  },
  {
   "cell_type": "code",
   "execution_count": 174,
   "id": "f722fc93-4221-4ece-91e0-d521ddc84987",
   "metadata": {},
   "outputs": [
    {
     "name": "stderr",
     "output_type": "stream",
     "text": [
      "fatal: Unable to create '/Users/noafoucoux/Documents/Cours/ma1/soft_evol/tp2/eucalyptus/.git/index.lock': File exists.\n",
      "\n",
      "Another git process seems to be running in this repository, e.g.\n",
      "an editor opened by 'git commit'. Please make sure all processes\n",
      "are terminated then try again. If it still fails, a git process\n",
      "may have crashed in this repository earlier:\n",
      "remove the file manually to continue.\n",
      "fatal: Unable to create '/Users/noafoucoux/Documents/Cours/ma1/soft_evol/tp2/eucalyptus/.git/index.lock': File exists.\n",
      "\n",
      "Another git process seems to be running in this repository, e.g.\n",
      "an editor opened by 'git commit'. Please make sure all processes\n",
      "are terminated then try again. If it still fails, a git process\n",
      "may have crashed in this repository earlier:\n",
      "remove the file manually to continue.\n",
      "fatal: Unable to create '/Users/noafoucoux/Documents/Cours/ma1/soft_evol/tp2/eucalyptus/.git/index.lock': File exists.\n",
      "\n",
      "Another git process seems to be running in this repository, e.g.\n",
      "an editor opened by 'git commit'. Please make sure all processes\n",
      "are terminated then try again. If it still fails, a git process\n",
      "may have crashed in this repository earlier:\n",
      "remove the file manually to continue.\n",
      "fatal: Unable to create '/Users/noafoucoux/Documents/Cours/ma1/soft_evol/tp2/eucalyptus/.git/index.lock': File exists.\n",
      "\n",
      "Another git process seems to be running in this repository, e.g.\n",
      "an editor opened by 'git commit'. Please make sure all processes\n",
      "are terminated then try again. If it still fails, a git process\n",
      "may have crashed in this repository earlier:\n",
      "remove the file manually to continue.\n",
      "fatal: Unable to create '/Users/noafoucoux/Documents/Cours/ma1/soft_evol/tp2/eucalyptus/.git/index.lock': File exists.\n",
      "\n",
      "Another git process seems to be running in this repository, e.g.\n",
      "an editor opened by 'git commit'. Please make sure all processes\n",
      "are terminated then try again. If it still fails, a git process\n",
      "may have crashed in this repository earlier:\n",
      "remove the file manually to continue.\n",
      "fatal: Unable to create '/Users/noafoucoux/Documents/Cours/ma1/soft_evol/tp2/eucalyptus/.git/index.lock': File exists.\n",
      "\n",
      "Another git process seems to be running in this repository, e.g.\n",
      "an editor opened by 'git commit'. Please make sure all processes\n",
      "are terminated then try again. If it still fails, a git process\n",
      "may have crashed in this repository earlier:\n",
      "remove the file manually to continue.\n",
      "fatal: Unable to create '/Users/noafoucoux/Documents/Cours/ma1/soft_evol/tp2/eucalyptus/.git/index.lock': File exists.\n",
      "\n",
      "Another git process seems to be running in this repository, e.g.\n",
      "an editor opened by 'git commit'. Please make sure all processes\n",
      "are terminated then try again. If it still fails, a git process\n",
      "may have crashed in this repository earlier:\n",
      "remove the file manually to continue.\n",
      "fatal: Unable to create '/Users/noafoucoux/Documents/Cours/ma1/soft_evol/tp2/eucalyptus/.git/index.lock': File exists.\n",
      "\n",
      "Another git process seems to be running in this repository, e.g.\n",
      "an editor opened by 'git commit'. Please make sure all processes\n",
      "are terminated then try again. If it still fails, a git process\n",
      "may have crashed in this repository earlier:\n",
      "remove the file manually to continue.\n",
      "fatal: Unable to create '/Users/noafoucoux/Documents/Cours/ma1/soft_evol/tp2/eucalyptus/.git/index.lock': File exists.\n",
      "\n",
      "Another git process seems to be running in this repository, e.g.\n",
      "an editor opened by 'git commit'. Please make sure all processes\n",
      "are terminated then try again. If it still fails, a git process\n",
      "may have crashed in this repository earlier:\n",
      "remove the file manually to continue.\n",
      "fatal: Unable to create '/Users/noafoucoux/Documents/Cours/ma1/soft_evol/tp2/eucalyptus/.git/index.lock': File exists.\n",
      "\n",
      "Another git process seems to be running in this repository, e.g.\n",
      "an editor opened by 'git commit'. Please make sure all processes\n",
      "are terminated then try again. If it still fails, a git process\n",
      "may have crashed in this repository earlier:\n",
      "remove the file manually to continue.\n",
      "fatal: Unable to create '/Users/noafoucoux/Documents/Cours/ma1/soft_evol/tp2/eucalyptus/.git/index.lock': File exists.\n",
      "\n",
      "Another git process seems to be running in this repository, e.g.\n",
      "an editor opened by 'git commit'. Please make sure all processes\n",
      "are terminated then try again. If it still fails, a git process\n",
      "may have crashed in this repository earlier:\n",
      "remove the file manually to continue.\n",
      "fatal: Unable to create '/Users/noafoucoux/Documents/Cours/ma1/soft_evol/tp2/eucalyptus/.git/index.lock': File exists.\n",
      "\n",
      "Another git process seems to be running in this repository, e.g.\n",
      "an editor opened by 'git commit'. Please make sure all processes\n",
      "are terminated then try again. If it still fails, a git process\n",
      "may have crashed in this repository earlier:\n",
      "remove the file manually to continue.\n",
      "fatal: Unable to create '/Users/noafoucoux/Documents/Cours/ma1/soft_evol/tp2/eucalyptus/.git/index.lock': File exists.\n",
      "\n",
      "Another git process seems to be running in this repository, e.g.\n",
      "an editor opened by 'git commit'. Please make sure all processes\n",
      "are terminated then try again. If it still fails, a git process\n",
      "may have crashed in this repository earlier:\n",
      "remove the file manually to continue.\n",
      "fatal: Unable to create '/Users/noafoucoux/Documents/Cours/ma1/soft_evol/tp2/eucalyptus/.git/index.lock': File exists.\n",
      "\n",
      "Another git process seems to be running in this repository, e.g.\n",
      "an editor opened by 'git commit'. Please make sure all processes\n",
      "are terminated then try again. If it still fails, a git process\n",
      "may have crashed in this repository earlier:\n",
      "remove the file manually to continue.\n",
      "fatal: Unable to create '/Users/noafoucoux/Documents/Cours/ma1/soft_evol/tp2/eucalyptus/.git/index.lock': File exists.\n",
      "\n",
      "Another git process seems to be running in this repository, e.g.\n",
      "an editor opened by 'git commit'. Please make sure all processes\n",
      "are terminated then try again. If it still fails, a git process\n",
      "may have crashed in this repository earlier:\n",
      "remove the file manually to continue.\n",
      "fatal: Unable to create '/Users/noafoucoux/Documents/Cours/ma1/soft_evol/tp2/eucalyptus/.git/index.lock': File exists.\n",
      "\n",
      "Another git process seems to be running in this repository, e.g.\n",
      "an editor opened by 'git commit'. Please make sure all processes\n",
      "are terminated then try again. If it still fails, a git process\n",
      "may have crashed in this repository earlier:\n",
      "remove the file manually to continue.\n",
      "fatal: Unable to create '/Users/noafoucoux/Documents/Cours/ma1/soft_evol/tp2/eucalyptus/.git/index.lock': File exists.\n",
      "\n",
      "Another git process seems to be running in this repository, e.g.\n",
      "an editor opened by 'git commit'. Please make sure all processes\n",
      "are terminated then try again. If it still fails, a git process\n",
      "may have crashed in this repository earlier:\n",
      "remove the file manually to continue.\n",
      "fatal: Unable to create '/Users/noafoucoux/Documents/Cours/ma1/soft_evol/tp2/eucalyptus/.git/index.lock': File exists.\n",
      "\n",
      "Another git process seems to be running in this repository, e.g.\n",
      "an editor opened by 'git commit'. Please make sure all processes\n",
      "are terminated then try again. If it still fails, a git process\n",
      "may have crashed in this repository earlier:\n",
      "remove the file manually to continue.\n",
      "fatal: Unable to create '/Users/noafoucoux/Documents/Cours/ma1/soft_evol/tp2/eucalyptus/.git/index.lock': File exists.\n",
      "\n",
      "Another git process seems to be running in this repository, e.g.\n",
      "an editor opened by 'git commit'. Please make sure all processes\n",
      "are terminated then try again. If it still fails, a git process\n",
      "may have crashed in this repository earlier:\n",
      "remove the file manually to continue.\n",
      "Can't cd to (../eucalyptus/clc/modules/) object-storage: No such file or directory\n",
      " at /opt/homebrew/Cellar/cloc/1.96/libexec/bin/cloc line 5419.\n",
      "Can't cd to (../eucalyptus/clc/modules/) object-storage-common: No such file or directory\n",
      " at /opt/homebrew/Cellar/cloc/1.96/libexec/bin/cloc line 5419.\n",
      "Can't cd to (../eucalyptus/clc/modules/) object-storage-common: No such file or directory\n",
      " at /opt/homebrew/Cellar/cloc/1.96/libexec/bin/cloc line 5419.\n",
      "fatal: Unable to create '/Users/noafoucoux/Documents/Cours/ma1/soft_evol/tp2/eucalyptus/.git/index.lock': File exists.\n",
      "\n",
      "Another git process seems to be running in this repository, e.g.\n",
      "an editor opened by 'git commit'. Please make sure all processes\n",
      "are terminated then try again. If it still fails, a git process\n",
      "may have crashed in this repository earlier:\n",
      "remove the file manually to continue.\n",
      "fatal: Unable to create '/Users/noafoucoux/Documents/Cours/ma1/soft_evol/tp2/eucalyptus/.git/index.lock': File exists.\n",
      "\n",
      "Another git process seems to be running in this repository, e.g.\n",
      "an editor opened by 'git commit'. Please make sure all processes\n",
      "are terminated then try again. If it still fails, a git process\n",
      "may have crashed in this repository earlier:\n",
      "remove the file manually to continue.\n",
      "Can't cd to (../eucalyptus/clc/modules/) simpleworkflow-common: No such file or directory\n",
      " at /opt/homebrew/Cellar/cloc/1.96/libexec/bin/cloc line 5419.\n",
      "Can't cd to (../eucalyptus/clc/modules/) object-storage: No such file or directory\n",
      " at /opt/homebrew/Cellar/cloc/1.96/libexec/bin/cloc line 5419.\n",
      "Can't cd to (../eucalyptus/clc/modules/simpleworkflow-common/src/main/java/com/eucalyptus/simpleworkflow/common/) policy: No such file or directory\n",
      " at /opt/homebrew/Cellar/cloc/1.96/libexec/bin/cloc line 5419.\n",
      "Can't cd to ../../../../../../../.. from ../eucalyptus/clc/modules/simpleworkflow-common/src/main/java/com/eucalyptus/simpleworkflow/common/policy: No such file or directory at /System/Library/Perl/5.30/File/Find.pm line 470.\n",
      "Can't cd to (../eucalyptus/clc/modules/) storage-common: No such file or directory\n",
      " at /opt/homebrew/Cellar/cloc/1.96/libexec/bin/cloc line 5419.\n",
      "Can't cd to ../../../../.. from ../eucalyptus/clc/modules/tokens/src/test/java/com/eucalyptus/tokens: No such file or directory at /System/Library/Perl/5.30/File/Find.pm line 470.\n",
      "Can't cd to (../eucalyptus/clc/modules/troubleshooting/src/main/java/com/eucalyptus/troubleshooting/) checker: No such file or directory\n",
      " at /opt/homebrew/Cellar/cloc/1.96/libexec/bin/cloc line 5419.\n",
      "Can't cd to (../eucalyptus/clc/modules/troubleshooting/src/main/java/com/eucalyptus/) stats: No such file or directory\n",
      " at /opt/homebrew/Cellar/cloc/1.96/libexec/bin/cloc line 5419.\n",
      "Can't cd to ../../../../../.. from ../eucalyptus/clc/modules/troubleshooting/src/main/java/com/eucalyptus/stats: No such file or directory at /System/Library/Perl/5.30/File/Find.pm line 470.\n",
      "fatal: Unable to create '/Users/noafoucoux/Documents/Cours/ma1/soft_evol/tp2/eucalyptus/.git/index.lock': File exists.\n",
      "\n",
      "Another git process seems to be running in this repository, e.g.\n",
      "an editor opened by 'git commit'. Please make sure all processes\n",
      "are terminated then try again. If it still fails, a git process\n",
      "may have crashed in this repository earlier:\n",
      "remove the file manually to continue.\n",
      "Can't cd to (../eucalyptus/clc/modules/) tokens: No such file or directory\n",
      " at /opt/homebrew/Cellar/cloc/1.96/libexec/bin/cloc line 5419.\n",
      "fatal: Unable to create '/Users/noafoucoux/Documents/Cours/ma1/soft_evol/tp2/eucalyptus/.git/index.lock': File exists.\n",
      "\n",
      "Another git process seems to be running in this repository, e.g.\n",
      "an editor opened by 'git commit'. Please make sure all processes\n",
      "are terminated then try again. If it still fails, a git process\n",
      "may have crashed in this repository earlier:\n",
      "remove the file manually to continue.\n",
      "fatal: Unable to create '/Users/noafoucoux/Documents/Cours/ma1/soft_evol/tp2/eucalyptus/.git/index.lock': File exists.\n",
      "\n",
      "Another git process seems to be running in this repository, e.g.\n",
      "an editor opened by 'git commit'. Please make sure all processes\n",
      "are terminated then try again. If it still fails, a git process\n",
      "may have crashed in this repository earlier:\n",
      "remove the file manually to continue.\n",
      "Can't cd to (../eucalyptus/clc/modules/walrus-common/src/main/java/com/eucalyptus/walrus/) entities: No such file or directory\n",
      " at /opt/homebrew/Cellar/cloc/1.96/libexec/bin/cloc line 5419.\n",
      "Can't cd to (../eucalyptus/clc/modules/) object-storage: No such file or directory\n",
      " at /opt/homebrew/Cellar/cloc/1.96/libexec/bin/cloc line 5419.\n",
      "Can't cd to (../eucalyptus/clc/modules/walrus/src/main/java/com/eucalyptus/walrus/) auth: No such file or directory\n",
      " at /opt/homebrew/Cellar/cloc/1.96/libexec/bin/cloc line 5419.\n",
      "Can't cd to (../eucalyptus/clc/modules/) tokens: No such file or directory\n",
      " at /opt/homebrew/Cellar/cloc/1.96/libexec/bin/cloc line 5419.\n",
      "Can't cd to (../eucalyptus/clc/modules/walrus/src/main/java/com/eucalyptus/walrus/) auth: No such file or directory\n",
      " at /opt/homebrew/Cellar/cloc/1.96/libexec/bin/cloc line 5419.\n",
      "Can't cd to (../eucalyptus/clc/modules/walrus/src/main/java/com/eucalyptus/walrus/) storage: No such file or directory\n",
      " at /opt/homebrew/Cellar/cloc/1.96/libexec/bin/cloc line 5419.\n",
      "Can't cd to ../../../../../../.. from ../eucalyptus/clc/modules/walrus/src/main/java/com/eucalyptus/walrus/storage: No such file or directory at /System/Library/Perl/5.30/File/Find.pm line 470.\n",
      "Unable to read ../eucalyptus/clc/modules/walrus-common/src/main/java/com/eucalyptus/walrus/exceptions/InvalidTargetBucketForLoggingException.java\n",
      "Unable to read ../eucalyptus/clc/modules/walrus-common/src/main/java/com/eucalyptus/walrus/exceptions/MethodNotAllowedException.java\n",
      "Unable to read ../eucalyptus/clc/modules/walrus-common/src/main/java/com/eucalyptus/walrus/exceptions/NoSuchBucketException.java\n",
      "Unable to read ../eucalyptus/clc/modules/walrus-common/src/main/java/com/eucalyptus/walrus/exceptions/NoSuchEntityException.java\n",
      "Unable to read ../eucalyptus/clc/modules/walrus-common/src/main/java/com/eucalyptus/walrus/exceptions/NoSuchLifecycleConfigurationException.java\n",
      "Unable to read ../eucalyptus/clc/modules/walrus-common/src/main/java/com/eucalyptus/walrus/exceptions/NoSuchUploadException.java\n",
      "Unable to read ../eucalyptus/clc/modules/walrus-common/src/main/java/com/eucalyptus/walrus/exceptions/NotAuthorizedException.java\n",
      "Unable to read ../eucalyptus/clc/modules/walrus-common/src/main/java/com/eucalyptus/walrus/exceptions/NotImplementedException.java\n",
      "Unable to read ../eucalyptus/clc/modules/walrus-common/src/main/java/com/eucalyptus/walrus/exceptions/NotModifiedException.java\n",
      "Unable to read ../eucalyptus/clc/modules/walrus-common/src/main/java/com/eucalyptus/walrus/exceptions/NotReadyException.java\n",
      "Unable to read ../eucalyptus/clc/modules/walrus-common/src/main/java/com/eucalyptus/walrus/exceptions/PreconditionFailedException.java\n",
      "Can't cd to (../eucalyptus/) project: No such file or directory\n",
      " at /opt/homebrew/Cellar/cloc/1.96/libexec/bin/cloc line 5419.\n",
      "Can't cd to (../eucalyptus/) m4: No such file or directory\n",
      " at /opt/homebrew/Cellar/cloc/1.96/libexec/bin/cloc line 5419.\n",
      "Can't cd to (../eucalyptus/) doxygen: No such file or directory\n",
      " at /opt/homebrew/Cellar/cloc/1.96/libexec/bin/cloc line 5419.\n",
      "fatal: Unable to create '/Users/noafoucoux/Documents/Cours/ma1/soft_evol/tp2/eucalyptus/.git/index.lock': File exists.\n",
      "\n",
      "Another git process seems to be running in this repository, e.g.\n",
      "an editor opened by 'git commit'. Please make sure all processes\n",
      "are terminated then try again. If it still fails, a git process\n",
      "may have crashed in this repository earlier:\n",
      "remove the file manually to continue.\n",
      "Unable to read ../eucalyptus/clc/modules/walrus-common/src/main/java/com/eucalyptus/walrus/exceptions/TooManyBucketsException.java\n",
      "fatal: Unable to create '/Users/noafoucoux/Documents/Cours/ma1/soft_evol/tp2/eucalyptus/.git/index.lock': File exists.\n",
      "\n",
      "Another git process seems to be running in this repository, e.g.\n",
      "an editor opened by 'git commit'. Please make sure all processes\n",
      "are terminated then try again. If it still fails, a git process\n",
      "may have crashed in this repository earlier:\n",
      "remove the file manually to continue.\n",
      "Unable to read ../eucalyptus/clc/modules/walrus-common/src/main/java/com/eucalyptus/walrus/exceptions/WalrusException.java\n",
      "Unable to read ../eucalyptus/clc/modules/walrus-common/src/main/java/com/eucalyptus/walrus/msgs/Walrus.groovy\n",
      "Unable to read ../eucalyptus/clc/modules/walrus-common/src/main/java/com/eucalyptus/walrus/msgs/WalrusConfigurationMessages.groovy\n",
      "Unable to read ../eucalyptus/clc/modules/walrus-common/src/main/java/com/eucalyptus/walrus/msgs/WalrusDataMessage.java\n",
      "Can't cd to (../eucalyptus/) extras: No such file or directory\n",
      " at /opt/homebrew/Cellar/cloc/1.96/libexec/bin/cloc line 5419.\n",
      "Unable to read ../eucalyptus/clc/modules/walrus-common/src/main/java/com/eucalyptus/walrus/msgs/WalrusDataMessenger.java\n",
      "fatal: Unable to create '/Users/noafoucoux/Documents/Cours/ma1/soft_evol/tp2/eucalyptus/.git/index.lock': File exists.\n",
      "\n",
      "Another git process seems to be running in this repository, e.g.\n",
      "an editor opened by 'git commit'. Please make sure all processes\n",
      "are terminated then try again. If it still fails, a git process\n",
      "may have crashed in this repository earlier:\n",
      "remove the file manually to continue.\n",
      "Unable to read ../eucalyptus/clc/modules/walrus-common/src/main/java/com/eucalyptus/walrus/msgs/WalrusDataQueue.java\n",
      "Unable to read ../eucalyptus/clc/modules/walrus-common/src/main/java/com/eucalyptus/walrus/msgs/WalrusMonitor.java\n",
      "Unable to read ../eucalyptus/clc/modules/walrus-common/src/main/java/com/eucalyptus/walrus/util/WalrusProperties.java\n",
      "Unable to read ../eucalyptus/clc/modules/walrus-common/src/main/resources/walrus-binding.xml\n",
      "Unable to read ../eucalyptus/clc/modules/walrus/build.xml\n",
      "Unable to read ../eucalyptus/clc/modules/walrus/ivy.xml\n",
      "Unable to read ../eucalyptus/clc/modules/walrus/src/main/java/com/eucalyptus/walrus/BackendStorageManagerFactory.java\n",
      "Unable to read ../eucalyptus/clc/modules/walrus/src/main/java/com/eucalyptus/walrus/StorageManager.java\n",
      "Unable to read ../eucalyptus/clc/modules/walrus/src/main/java/com/eucalyptus/walrus/WalrusBucketLogger.java\n",
      "Unable to read ../eucalyptus/clc/modules/walrus/src/main/java/com/eucalyptus/walrus/WalrusControl.java\n",
      "Unable to read ../eucalyptus/clc/modules/walrus/src/main/java/com/eucalyptus/walrus/WalrusFSManager.java\n",
      "fatal: Unable to create '/Users/noafoucoux/Documents/Cours/ma1/soft_evol/tp2/eucalyptus/.git/index.lock': File exists.\n",
      "\n",
      "Another git process seems to be running in this repository, e.g.\n",
      "an editor opened by 'git commit'. Please make sure all processes\n",
      "are terminated then try again. If it still fails, a git process\n",
      "may have crashed in this repository earlier:\n",
      "remove the file manually to continue.\n",
      "Unable to read ../eucalyptus/clc/modules/walrus/src/main/java/com/eucalyptus/walrus/WalrusManager.java\n",
      "Unable to read ../eucalyptus/clc/modules/walrus/src/main/java/com/eucalyptus/walrus/auth/WalrusLoginModule.java\n",
      "Unable to read ../eucalyptus/clc/modules/walrus/src/main/java/com/eucalyptus/walrus/auth/WalrusWrappedCredentials.java\n",
      "Unable to read ../eucalyptus/clc/modules/walrus/src/main/java/com/eucalyptus/walrus/bittorrent/TorrentClient.java\n",
      "Unable to read ../eucalyptus/clc/modules/walrus/src/main/java/com/eucalyptus/walrus/bittorrent/TorrentCreator.java\n",
      "Unable to read ../eucalyptus/clc/modules/walrus/src/main/java/com/eucalyptus/walrus/bittorrent/Torrents.java\n",
      "Unable to read ../eucalyptus/clc/modules/walrus/src/main/java/com/eucalyptus/walrus/bittorrent/Tracker.java\n",
      "Unable to read ../eucalyptus/clc/modules/walrus/src/main/java/com/eucalyptus/walrus/bootstrap/WalrusBootstrapper.java\n",
      "Unable to read ../eucalyptus/clc/modules/walrus/src/main/java/com/eucalyptus/walrus/config/WalrusBuilder.java\n",
      "Unable to read ../eucalyptus/clc/modules/walrus/src/main/java/com/eucalyptus/walrus/pipeline/UploadPolicyChecker.java\n",
      "Unable to read ../eucalyptus/clc/modules/walrus/src/main/java/com/eucalyptus/walrus/pipeline/WalrusAuthenticationHandler.java\n",
      "Unable to read ../eucalyptus/clc/modules/walrus/src/main/java/com/eucalyptus/walrus/pipeline/WalrusOutboundHandler.java\n",
      "Unable to read ../eucalyptus/clc/modules/walrus/src/main/java/com/eucalyptus/walrus/pipeline/WalrusPOSTAuthenticationHandler.java\n",
      "Unable to read ../eucalyptus/clc/modules/walrus/src/main/java/com/eucalyptus/walrus/pipeline/WalrusPOSTIncomingHandler.java\n",
      "Unable to read ../eucalyptus/clc/modules/walrus/src/main/java/com/eucalyptus/walrus/pipeline/WalrusRESTBinding.java\n",
      "Unable to read ../eucalyptus/clc/modules/walrus/src/main/java/com/eucalyptus/walrus/pipeline/WalrusRESTExceptionHandler.java\n",
      "Unable to read ../eucalyptus/clc/modules/walrus/src/main/java/com/eucalyptus/walrus/pipeline/WalrusRESTLoggerInbound.java\n",
      "Unable to read ../eucalyptus/clc/modules/walrus/src/main/java/com/eucalyptus/walrus/pipeline/WalrusRESTLoggerOutbound.java\n",
      "Unable to read ../eucalyptus/clc/modules/walrus/src/main/java/com/eucalyptus/walrus/pipeline/WalrusRESTPipeline.java\n",
      "Unable to read ../eucalyptus/clc/modules/walrus/src/main/java/com/eucalyptus/walrus/pipeline/WalrusRESTPostPipeline.java\n",
      "Unable to read ../eucalyptus/clc/modules/walrus/src/main/java/com/eucalyptus/walrus/pipeline/stages/WalrusOutboundStage.java\n",
      "Unable to read ../eucalyptus/clc/modules/walrus/src/main/java/com/eucalyptus/walrus/pipeline/stages/WalrusPOSTUserAuthenticationStage.java\n",
      "Unable to read ../eucalyptus/clc/modules/walrus/src/main/java/com/eucalyptus/walrus/pipeline/stages/WalrusRESTBindingStage.java\n",
      "Unable to read ../eucalyptus/clc/modules/walrus/src/main/java/com/eucalyptus/walrus/pipeline/stages/WalrusRESTExceptionStage.java\n",
      "Unable to read ../eucalyptus/clc/modules/walrus/src/main/java/com/eucalyptus/walrus/pipeline/stages/WalrusUserAuthenticationStage.java\n",
      "Unable to read ../eucalyptus/clc/modules/walrus/src/main/java/com/eucalyptus/walrus/storage/DRBDStorageManager.java\n",
      "Unable to read ../eucalyptus/clc/modules/walrus/src/main/java/com/eucalyptus/walrus/storage/FileSystemStorageManager.java\n",
      "Unable to read ../eucalyptus/clc/modules/walrus/src/main/java/com/eucalyptus/walrus/util/WalrusImageUtils.java\n",
      "Unable to read ../eucalyptus/clc/modules/walrus/src/main/java/com/eucalyptus/walrus/util/WalrusUtil.java\n",
      "Unable to read ../eucalyptus/clc/modules/walrus/src/main/resources/walrusbackend-model.xml\n",
      "Unable to read ../eucalyptus/clc/modules/walrus/src/main/resources/walrusbackend-services.xml\n",
      "Unable to read ../eucalyptus/clc/modules/walrus/src/test/java/com/eucalyptus/walrus/pipeline/WalrusRESTBindingTest.groovy\n",
      "Unable to read ../eucalyptus/clc/modules/walrus/src/test/java/com/eucalyptus/walrus/pipeline/WalrusRESTPipelineTest.groovy\n",
      "Unable to read ../eucalyptus/clc/modules/walrus/src/test/java/com/eucalyptus/walrus/tests/BukkitTest.java\n",
      "Unable to read ../eucalyptus/clc/modules/walrus/src/test/java/com/eucalyptus/walrus/tests/ObjectTest.java\n",
      "Unable to read ../eucalyptus/clc/modules/walrus/src/test/java/com/eucalyptus/walrus/tests/WalrusBucketTests.java\n",
      "Unable to read ../eucalyptus/clc/modules/walrus/udev/65-drbd-owner.rules\n",
      "Unable to read ../eucalyptus/clc/modules/walrus/udev/rules.d/65-drbd-owner.rules\n",
      "Unable to read ../eucalyptus/clc/modules/wsstack/build.xml\n",
      "fatal: Unable to create '/Users/noafoucoux/Documents/Cours/ma1/soft_evol/tp2/eucalyptus/.git/index.lock': File exists.\n",
      "\n",
      "Another git process seems to be running in this repository, e.g.\n",
      "an editor opened by 'git commit'. Please make sure all processes\n",
      "are terminated then try again. If it still fails, a git process\n",
      "may have crashed in this repository earlier:\n",
      "remove the file manually to continue.\n",
      "Unable to read ../eucalyptus/clc/modules/wsstack/conf/scripts/walruslogger.groovy\n",
      "Unable to read ../eucalyptus/clc/modules/wsstack/ivy.xml\n",
      "Unable to read ../eucalyptus/clc/modules/wsstack/src/main/java/com/eucalyptus/ws/DeferredPropertiesBootstrapper.java\n",
      "Unable to read ../eucalyptus/clc/modules/wsstack/src/main/java/com/eucalyptus/ws/EucalyptusNamespaceHandler.java\n",
      "Unable to read ../eucalyptus/clc/modules/wsstack/src/main/java/com/eucalyptus/ws/InvalidOperationException.java\n",
      "Unable to read ../eucalyptus/clc/modules/wsstack/src/main/java/com/eucalyptus/ws/MethodNotAllowedException.java\n",
      "Unable to read ../eucalyptus/clc/modules/wsstack/src/main/java/com/eucalyptus/ws/RemoteConfigurationException.java\n",
      "Can't cd to (../eucalyptus/) extras: No such file or directory\n",
      " at /opt/homebrew/Cellar/cloc/1.96/libexec/bin/cloc line 5419.\n",
      "Unable to read ../eucalyptus/clc/modules/wsstack/src/main/java/com/eucalyptus/ws/ServiceBootstrapper.java\n",
      "Unable to read ../eucalyptus/clc/modules/wsstack/src/main/java/com/eucalyptus/ws/client/NioMessageDispatcher.java\n",
      "Unable to read ../eucalyptus/clc/modules/wsstack/src/main/java/com/eucalyptus/ws/client/NioMessageDispatcherFactory.java\n",
      "Unable to read ../eucalyptus/clc/modules/wsstack/src/main/java/com/eucalyptus/ws/client/pipeline/InternalClientPipeline.java\n",
      "Unable to read ../eucalyptus/clc/modules/wsstack/src/main/java/com/eucalyptus/ws/handlers/BrokerBindingHandler.java\n",
      "Unable to read ../eucalyptus/clc/modules/wsstack/src/main/java/com/eucalyptus/ws/handlers/ChannelStateMonitor.java\n",
      "Unable to read ../eucalyptus/clc/modules/wsstack/src/main/java/com/eucalyptus/ws/handlers/NioHttpResponseDecoder.java\n",
      "Unable to read ../eucalyptus/clc/modules/wsstack/src/main/java/com/eucalyptus/ws/handlers/POSTRequestContext.java\n",
      "Unable to read ../eucalyptus/clc/modules/wsstack/src/main/java/com/eucalyptus/ws/handlers/TestHandler.java\n",
      "Unable to read ../eucalyptus/clc/modules/wsstack/src/main/java/com/eucalyptus/ws/handlers/wssecurity/BrokerWsSecHandler.java\n",
      "Unable to read ../eucalyptus/clc/modules/wsstack/src/main/java/com/eucalyptus/ws/server/NioHttpConnector.java\n",
      "Unable to read ../eucalyptus/clc/modules/wsstack/src/main/java/com/eucalyptus/ws/server/QueryPipeline.java\n",
      "Unable to read ../eucalyptus/clc/modules/wsstack/src/main/java/com/eucalyptus/ws/server/SoapPipeline.java\n",
      "Unable to read ../eucalyptus/clc/modules/wsstack/src/main/java/com/eucalyptus/ws/stages/ExternalSCAuthenticationStage.java\n",
      "Unable to read ../eucalyptus/clc/modules/wsstack/src/main/java/com/eucalyptus/ws/stages/HmacUserAuthenticationStage.java\n",
      "Unable to read ../eucalyptus/clc/modules/wsstack/src/main/java/com/eucalyptus/ws/stages/SoapUserAuthenticationStage.java\n",
      "Unable to read ../eucalyptus/clc/modules/wsstack/src/main/java/com/eucalyptus/ws/stages/UnrollableStage.java\n",
      "Unable to read ../eucalyptus/clc/modules/wsstack/src/main/java/com/eucalyptus/ws/util/ChannelUtil.java\n",
      "Unable to read ../eucalyptus/clc/modules/wsstack/src/main/resources/META-INF/euca.xsd\n",
      "Unable to read ../eucalyptus/clc/modules/wsstack/src/main/resources/META-INF/services/org/mule/transport/http.properties\n",
      "Unable to read ../eucalyptus/clc/modules/wsstack/src/main/resources/META-INF/spring.handlers\n",
      "Unable to read ../eucalyptus/clc/modules/wsstack/src/main/resources/META-INF/spring.schemas\n",
      "Unable to read ../eucalyptus/clc/modules/www/ivy.xml\n",
      "Unable to read ../eucalyptus/clc/modules/www/src/main/java/com/eucalyptus/bootstrap/HttpServerBootstrapper.java\n",
      "Unable to read ../eucalyptus/clc/modules/www/src/main/java/com/eucalyptus/www/Redirect.java\n",
      "Unable to read ../eucalyptus/clc/modules/www/src/main/java/com/eucalyptus/www/X509Download.java\n",
      "Unable to read ../eucalyptus/clc/modules/www/src/main/resources/eucalyptus-jetty.xml\n",
      "Unable to read ../eucalyptus/clc/modules/www/src/main/resources/eucalyptus-www.xml\n",
      "Unable to read ../eucalyptus/clc/modules/www/src/main/webapp/WEB-INF/web.xml\n",
      "Unable to read ../eucalyptus/clc/regen-project.sh\n",
      "fatal: Unable to create '/Users/noafoucoux/Documents/Cours/ma1/soft_evol/tp2/eucalyptus/.git/index.lock': File exists.\n",
      "\n",
      "Another git process seems to be running in this repository, e.g.\n",
      "an editor opened by 'git commit'. Please make sure all processes\n",
      "are terminated then try again. If it still fails, a git process\n",
      "may have crashed in this repository earlier:\n",
      "remove the file manually to continue.\n",
      "fatal: Unable to create '/Users/noafoucoux/Documents/Cours/ma1/soft_evol/tp2/eucalyptus/.git/index.lock': File exists.\n",
      "\n",
      "Another git process seems to be running in this repository, e.g.\n",
      "an editor opened by 'git commit'. Please make sure all processes\n",
      "are terminated then try again. If it still fails, a git process\n",
      "may have crashed in this repository earlier:\n",
      "remove the file manually to continue.\n",
      "fatal: Unable to create '/Users/noafoucoux/Documents/Cours/ma1/soft_evol/tp2/eucalyptus/.git/index.lock': File exists.\n",
      "\n",
      "Another git process seems to be running in this repository, e.g.\n",
      "an editor opened by 'git commit'. Please make sure all processes\n",
      "are terminated then try again. If it still fails, a git process\n",
      "may have crashed in this repository earlier:\n",
      "remove the file manually to continue.\n",
      "Unable to read ../eucalyptus/cluster/config-cc.h\n",
      "Unable to read ../eucalyptus/cluster/handlers-state.c\n",
      "Unable to read ../eucalyptus/cluster/handlers-state.h\n",
      "fatal: Unable to create '/Users/noafoucoux/Documents/Cours/ma1/soft_evol/tp2/eucalyptus/.git/index.lock': File exists.\n",
      "\n",
      "Another git process seems to be running in this repository, e.g.\n",
      "an editor opened by 'git commit'. Please make sure all processes\n",
      "are terminated then try again. If it still fails, a git process\n",
      "may have crashed in this repository earlier:\n",
      "remove the file manually to continue.\n",
      "fatal: Unable to create '/Users/noafoucoux/Documents/Cours/ma1/soft_evol/tp2/eucalyptus/.git/index.lock': File exists.\n",
      "\n",
      "Another git process seems to be running in this repository, e.g.\n",
      "an editor opened by 'git commit'. Please make sure all processes\n",
      "are terminated then try again. If it still fails, a git process\n",
      "may have crashed in this repository earlier:\n",
      "remove the file manually to continue.\n"
     ]
    }
   ],
   "source": [
    "for val in major_minor_patch_versions :\n",
    "    command = f'git -C {eucalyptus_project_path} reset --hard {val}'\n",
    "    process = subprocess.Popen(command, stdout=subprocess.PIPE, shell=True)\n",
    "    command_2 = f'cloc  --json --out {val}.json {eucalyptus_project_path} --force-lang=\\\"Java\\\"'\n",
    "    process_2 = subprocess.Popen(command_2, stdout=subprocess.PIPE, shell=True)\n",
    "\n",
    "\n"
   ]
  },
  {
   "cell_type": "code",
   "execution_count": 175,
   "id": "aefb6d51-33bb-4a0c-95ea-aac4f62c3366",
   "metadata": {},
   "outputs": [
    {
     "data": {
      "text/plain": "'import glob\\n\\ncommand = f\\'git -C {eucalyptus_project_path} tag -l --format=\"%(refname:short)|%(creatordate:short)\" | sort -r\\' # to get the release date\\nprocess = subprocess.Popen(command, stdout=subprocess.PIPE, shell=True)\\nall_dates = list(line.strip().decode(\"utf-8\") for line in process.stdout)\\n#print (all_dates)\\n\\ntemp = pd.DataFrame()\\nfile_list = \\'./\\'\\n\\njson_pattern = os.path.join(file_list,\\'*.json\\')\\nfile_list = glob.glob(json_pattern)\\n\\nfor file in file_list :\\n    with open(file) as f:\\n        data = pd.read_json(file, lines=True)\\n\\n'"
     },
     "execution_count": 175,
     "metadata": {},
     "output_type": "execute_result"
    }
   ],
   "source": [
    "\"\"\"import glob\n",
    "\n",
    "command = f'git -C {eucalyptus_project_path} tag -l --format=\"%(refname:short)|%(creatordate:short)\" | sort -r' # to get the release date\n",
    "process = subprocess.Popen(command, stdout=subprocess.PIPE, shell=True)\n",
    "all_dates = list(line.strip().decode(\"utf-8\") for line in process.stdout)\n",
    "#print (all_dates)\n",
    "\n",
    "temp = pd.DataFrame()\n",
    "file_list = './'\n",
    "\n",
    "json_pattern = os.path.join(file_list,'*.json')\n",
    "file_list = glob.glob(json_pattern)\n",
    "\n",
    "for file in file_list :\n",
    "    with open(file) as f:\n",
    "        data = pd.read_json(file, lines=True)\n",
    "\n",
    "\"\"\"\n",
    "\n",
    "\n",
    "\n",
    "\n",
    "\n",
    "# Your code to obtain the release date of each tag and combine it with the data obtained in the previous cell. Final data should have\n",
    "# #lines of code, #comments, #files, #blanks, #release date\n",
    "\n"
   ]
  },
  {
   "cell_type": "code",
   "execution_count": 176,
   "id": "c9d32893-d57a-4edc-b1e7-1825b64ae9c9",
   "metadata": {},
   "outputs": [
    {
     "name": "stderr",
     "output_type": "stream",
     "text": [
      "Unable to read ../eucalyptus/cluster/server-marshal-state.c\n",
      "Unable to read ../eucalyptus/cluster/server-marshal-state.h\n"
     ]
    }
   ],
   "source": [
    "# Your code here to get the versions of the form major.minor "
   ]
  },
  {
   "cell_type": "code",
   "execution_count": 177,
   "id": "1b8ba85a-ea94-4cc3-980e-46d42f59ef0e",
   "metadata": {},
   "outputs": [
    {
     "name": "stderr",
     "output_type": "stream",
     "text": [
      "Unable to read ../eucalyptus/cluster/shutdownCC.c\n",
      "Unable to read ../eucalyptus/config.guess\n",
      "Unable to read ../eucalyptus/config.sub\n"
     ]
    }
   ],
   "source": [
    "# Your code here to get the versions of the form major.minor.patch"
   ]
  },
  {
   "cell_type": "markdown",
   "id": "5635bd4d-979b-44a2-ae4a-1962b170445a",
   "metadata": {},
   "source": [
    "#### Visualization\n",
    "1. x-axis = version, y-axis = number  \n",
    "    i) for tags of the type major.minor.patch  \n",
    "    ii) for tags of the type major.minor  \n",
    "\n",
    "2. x-axis = date, y-axis = number  \n",
    "    i) for tags of the type major.minor.patch  \n",
    "    ii) for tags of the type major.minor  \n",
    "\n",
    "For easy comparison, place the plots with the versions on x-axis should be on the top (0,0) and (1,0) and their corresponding plots with date on the x-axis right below them (1,0) and (1,1) "
   ]
  },
  {
   "cell_type": "code",
   "execution_count": 178,
   "id": "2b146e1b-99f4-4a0f-8202-2231a10a86b2",
   "metadata": {},
   "outputs": [],
   "source": [
    "maj_min = pd.read_csv (\"LIG_major_minor.csv\", index_col=0)\n",
    "\n",
    "maj_min_patch = pd.read_csv(\"LIG_major_minor_patch.csv\", index_col=0)\n",
    "\n",
    "\n",
    "\n",
    "\n",
    "\n",
    "\n",
    "\n",
    "\n",
    "# Your plotting code here"
   ]
  },
  {
   "cell_type": "code",
   "execution_count": 179,
   "outputs": [
    {
     "data": {
      "text/plain": "    major  minor  nb_code  nb_blank  nb_comment  nb_nfiles        date  \\\n0       1      4   115336     18033       37569       1624  2009-01-06   \n1       1      5   129319     20261       44820       1705  2009-02-18   \n2       1      6   152705     23755       65761       1923  2009-11-05   \n3       2      0   181316     27549       67567       2251  2010-06-05   \n4       3      0   255305     39181       87179       2894  2012-02-07   \n5       3      1   258194     39307       88912       2837  2012-06-22   \n6       3      2   323616     52380      140778       3104  2012-12-17   \n7       3      3   416155     67460      180168       3750  2013-06-20   \n8       3      4   356711     56997      170462       3427  2013-10-24   \n9       4      0   422093     66220      179895       3820  2014-05-30   \n10      4      1   483211     77090      226741       4241  2015-01-28   \n11      4      2   499671     78935      234397       4297  2015-10-22   \n12      4      3   515659     79336      233230       4198  2016-08-09   \n13      4      4   532121     82317      229918       4378  2017-03-07   \n\n    relative_day  major.minor  \n0              0          1.4  \n1             43          1.5  \n2            303          1.6  \n3            515          2.0  \n4           1127          3.0  \n5           1263          3.1  \n6           1441          3.2  \n7           1626          3.3  \n8           1752          3.4  \n9           1970          4.0  \n10          2213          4.1  \n11          2480          4.2  \n12          2772          4.3  \n13          2982          4.4  ",
      "text/html": "<div>\n<style scoped>\n    .dataframe tbody tr th:only-of-type {\n        vertical-align: middle;\n    }\n\n    .dataframe tbody tr th {\n        vertical-align: top;\n    }\n\n    .dataframe thead th {\n        text-align: right;\n    }\n</style>\n<table border=\"1\" class=\"dataframe\">\n  <thead>\n    <tr style=\"text-align: right;\">\n      <th></th>\n      <th>major</th>\n      <th>minor</th>\n      <th>nb_code</th>\n      <th>nb_blank</th>\n      <th>nb_comment</th>\n      <th>nb_nfiles</th>\n      <th>date</th>\n      <th>relative_day</th>\n      <th>major.minor</th>\n    </tr>\n  </thead>\n  <tbody>\n    <tr>\n      <th>0</th>\n      <td>1</td>\n      <td>4</td>\n      <td>115336</td>\n      <td>18033</td>\n      <td>37569</td>\n      <td>1624</td>\n      <td>2009-01-06</td>\n      <td>0</td>\n      <td>1.4</td>\n    </tr>\n    <tr>\n      <th>1</th>\n      <td>1</td>\n      <td>5</td>\n      <td>129319</td>\n      <td>20261</td>\n      <td>44820</td>\n      <td>1705</td>\n      <td>2009-02-18</td>\n      <td>43</td>\n      <td>1.5</td>\n    </tr>\n    <tr>\n      <th>2</th>\n      <td>1</td>\n      <td>6</td>\n      <td>152705</td>\n      <td>23755</td>\n      <td>65761</td>\n      <td>1923</td>\n      <td>2009-11-05</td>\n      <td>303</td>\n      <td>1.6</td>\n    </tr>\n    <tr>\n      <th>3</th>\n      <td>2</td>\n      <td>0</td>\n      <td>181316</td>\n      <td>27549</td>\n      <td>67567</td>\n      <td>2251</td>\n      <td>2010-06-05</td>\n      <td>515</td>\n      <td>2.0</td>\n    </tr>\n    <tr>\n      <th>4</th>\n      <td>3</td>\n      <td>0</td>\n      <td>255305</td>\n      <td>39181</td>\n      <td>87179</td>\n      <td>2894</td>\n      <td>2012-02-07</td>\n      <td>1127</td>\n      <td>3.0</td>\n    </tr>\n    <tr>\n      <th>5</th>\n      <td>3</td>\n      <td>1</td>\n      <td>258194</td>\n      <td>39307</td>\n      <td>88912</td>\n      <td>2837</td>\n      <td>2012-06-22</td>\n      <td>1263</td>\n      <td>3.1</td>\n    </tr>\n    <tr>\n      <th>6</th>\n      <td>3</td>\n      <td>2</td>\n      <td>323616</td>\n      <td>52380</td>\n      <td>140778</td>\n      <td>3104</td>\n      <td>2012-12-17</td>\n      <td>1441</td>\n      <td>3.2</td>\n    </tr>\n    <tr>\n      <th>7</th>\n      <td>3</td>\n      <td>3</td>\n      <td>416155</td>\n      <td>67460</td>\n      <td>180168</td>\n      <td>3750</td>\n      <td>2013-06-20</td>\n      <td>1626</td>\n      <td>3.3</td>\n    </tr>\n    <tr>\n      <th>8</th>\n      <td>3</td>\n      <td>4</td>\n      <td>356711</td>\n      <td>56997</td>\n      <td>170462</td>\n      <td>3427</td>\n      <td>2013-10-24</td>\n      <td>1752</td>\n      <td>3.4</td>\n    </tr>\n    <tr>\n      <th>9</th>\n      <td>4</td>\n      <td>0</td>\n      <td>422093</td>\n      <td>66220</td>\n      <td>179895</td>\n      <td>3820</td>\n      <td>2014-05-30</td>\n      <td>1970</td>\n      <td>4.0</td>\n    </tr>\n    <tr>\n      <th>10</th>\n      <td>4</td>\n      <td>1</td>\n      <td>483211</td>\n      <td>77090</td>\n      <td>226741</td>\n      <td>4241</td>\n      <td>2015-01-28</td>\n      <td>2213</td>\n      <td>4.1</td>\n    </tr>\n    <tr>\n      <th>11</th>\n      <td>4</td>\n      <td>2</td>\n      <td>499671</td>\n      <td>78935</td>\n      <td>234397</td>\n      <td>4297</td>\n      <td>2015-10-22</td>\n      <td>2480</td>\n      <td>4.2</td>\n    </tr>\n    <tr>\n      <th>12</th>\n      <td>4</td>\n      <td>3</td>\n      <td>515659</td>\n      <td>79336</td>\n      <td>233230</td>\n      <td>4198</td>\n      <td>2016-08-09</td>\n      <td>2772</td>\n      <td>4.3</td>\n    </tr>\n    <tr>\n      <th>13</th>\n      <td>4</td>\n      <td>4</td>\n      <td>532121</td>\n      <td>82317</td>\n      <td>229918</td>\n      <td>4378</td>\n      <td>2017-03-07</td>\n      <td>2982</td>\n      <td>4.4</td>\n    </tr>\n  </tbody>\n</table>\n</div>"
     },
     "execution_count": 179,
     "metadata": {},
     "output_type": "execute_result"
    }
   ],
   "source": [
    "maj_min"
   ],
   "metadata": {
    "collapsed": false,
    "pycharm": {
     "name": "#%%\n"
    }
   }
  },
  {
   "cell_type": "code",
   "execution_count": 180,
   "outputs": [
    {
     "name": "stderr",
     "output_type": "stream",
     "text": [
      "Unable to read ../eucalyptus/doxygen/vmware-broker.doxyfile\n",
      "Unable to read ../eucalyptus/extras/README.monitoring\n",
      "Unable to read ../eucalyptus/extras/ganglia.sh\n",
      "Unable to read ../eucalyptus/extras/nagios.sh\n"
     ]
    },
    {
     "data": {
      "text/plain": "    major  minor  patch  nb_code  nb_blank  nb_comment  nb_nfiles        date  \\\n0       1      4      0   115336     18033       37569       1624  2009-01-06   \n1       1      5      0   129319     20261       44820       1705  2009-02-18   \n2       1      5      1   133424     20780       44377       1784  2009-08-05   \n3       1      5      2   134275     20719       38184       1796  2009-08-17   \n4       1      6      1   152705     23755       65761       1923  2009-11-05   \n5       2      0      0   181316     27549       67567       2251  2010-06-05   \n6       2      0      1   181826     27681       67584       2255  2010-07-06   \n7       3      0      0   255305     39181       87179       2894  2012-02-07   \n8       3      0      1   256081     39290       87887       2896  2012-03-12   \n9       3      1      0   258194     39307       88912       2837  2012-06-22   \n10      3      1      1   258951     39420       89215       2840  2012-09-17   \n11      3      1      2   259038     39435       89243       2841  2012-09-27   \n12      3      2      0   323616     52380      140778       3104  2012-12-17   \n13      3      2      1   325885     52767      141157       3108  2013-02-28   \n14      3      2      2   325827     52749      141120       3104  2013-04-16   \n15      3      3      0   416155     67460      180168       3750  2013-06-20   \n16      3      3      1   424897     68849      181951       3827  2013-09-11   \n17      3      3      2   425114     68870      181978       3827  2013-10-24   \n18      3      4      0   356711     56997      170462       3427  2013-10-24   \n19      3      4      1   356606     57092      170586       3432  2013-12-16   \n20      3      4      2   357060     57139      170593       3432  2014-02-25   \n21      4      0      0   422093     66220      179895       3820  2014-05-30   \n22      4      0      1   419734     65988      179947       3822  2014-08-04   \n23      4      0      2   420252     66093      180368       3828  2014-11-03   \n24      4      1      0   483211     77090      226741       4241  2015-01-28   \n25      4      1      1   486044     77357      226294       4230  2015-05-07   \n26      4      1      2   486410     77411      226363       4230  2015-07-28   \n27      4      2      0   499671     78935      234397       4297  2015-10-22   \n28      4      2      1   500161     79043      234453       4296  2015-12-07   \n29      4      2      2   501035     79137      234639       4299  2016-04-27   \n30      4      3      0   515659     79336      233230       4198  2016-08-09   \n31      4      3      1   515924     79361      233247       4196  2016-12-14   \n32      4      4      0   532121     82317      229918       4378  2017-03-07   \n33      4      4      1   532915     82355      229985       4376  2017-05-08   \n34      4      4      2   533292     82399      230058       4377  2017-08-30   \n\n    relative_day major.minor.patch  \n0              0             1.4.0  \n1             43             1.5.0  \n2            211             1.5.1  \n3            223             1.5.2  \n4            303             1.6.1  \n5            515             2.0.0  \n6            546             2.0.1  \n7           1127             3.0.0  \n8           1161             3.0.1  \n9           1263             3.1.0  \n10          1350             3.1.1  \n11          1360             3.1.2  \n12          1441             3.2.0  \n13          1514             3.2.1  \n14          1561             3.2.2  \n15          1626             3.3.0  \n16          1709             3.3.1  \n17          1752             3.3.2  \n18          1752             3.4.0  \n19          1805             3.4.1  \n20          1876             3.4.2  \n21          1970             4.0.0  \n22          2036             4.0.1  \n23          2127             4.0.2  \n24          2213             4.1.0  \n25          2312             4.1.1  \n26          2394             4.1.2  \n27          2480             4.2.0  \n28          2526             4.2.1  \n29          2668             4.2.2  \n30          2772             4.3.0  \n31          2899             4.3.1  \n32          2982             4.4.0  \n33          3044             4.4.1  \n34          3158             4.4.2  ",
      "text/html": "<div>\n<style scoped>\n    .dataframe tbody tr th:only-of-type {\n        vertical-align: middle;\n    }\n\n    .dataframe tbody tr th {\n        vertical-align: top;\n    }\n\n    .dataframe thead th {\n        text-align: right;\n    }\n</style>\n<table border=\"1\" class=\"dataframe\">\n  <thead>\n    <tr style=\"text-align: right;\">\n      <th></th>\n      <th>major</th>\n      <th>minor</th>\n      <th>patch</th>\n      <th>nb_code</th>\n      <th>nb_blank</th>\n      <th>nb_comment</th>\n      <th>nb_nfiles</th>\n      <th>date</th>\n      <th>relative_day</th>\n      <th>major.minor.patch</th>\n    </tr>\n  </thead>\n  <tbody>\n    <tr>\n      <th>0</th>\n      <td>1</td>\n      <td>4</td>\n      <td>0</td>\n      <td>115336</td>\n      <td>18033</td>\n      <td>37569</td>\n      <td>1624</td>\n      <td>2009-01-06</td>\n      <td>0</td>\n      <td>1.4.0</td>\n    </tr>\n    <tr>\n      <th>1</th>\n      <td>1</td>\n      <td>5</td>\n      <td>0</td>\n      <td>129319</td>\n      <td>20261</td>\n      <td>44820</td>\n      <td>1705</td>\n      <td>2009-02-18</td>\n      <td>43</td>\n      <td>1.5.0</td>\n    </tr>\n    <tr>\n      <th>2</th>\n      <td>1</td>\n      <td>5</td>\n      <td>1</td>\n      <td>133424</td>\n      <td>20780</td>\n      <td>44377</td>\n      <td>1784</td>\n      <td>2009-08-05</td>\n      <td>211</td>\n      <td>1.5.1</td>\n    </tr>\n    <tr>\n      <th>3</th>\n      <td>1</td>\n      <td>5</td>\n      <td>2</td>\n      <td>134275</td>\n      <td>20719</td>\n      <td>38184</td>\n      <td>1796</td>\n      <td>2009-08-17</td>\n      <td>223</td>\n      <td>1.5.2</td>\n    </tr>\n    <tr>\n      <th>4</th>\n      <td>1</td>\n      <td>6</td>\n      <td>1</td>\n      <td>152705</td>\n      <td>23755</td>\n      <td>65761</td>\n      <td>1923</td>\n      <td>2009-11-05</td>\n      <td>303</td>\n      <td>1.6.1</td>\n    </tr>\n    <tr>\n      <th>5</th>\n      <td>2</td>\n      <td>0</td>\n      <td>0</td>\n      <td>181316</td>\n      <td>27549</td>\n      <td>67567</td>\n      <td>2251</td>\n      <td>2010-06-05</td>\n      <td>515</td>\n      <td>2.0.0</td>\n    </tr>\n    <tr>\n      <th>6</th>\n      <td>2</td>\n      <td>0</td>\n      <td>1</td>\n      <td>181826</td>\n      <td>27681</td>\n      <td>67584</td>\n      <td>2255</td>\n      <td>2010-07-06</td>\n      <td>546</td>\n      <td>2.0.1</td>\n    </tr>\n    <tr>\n      <th>7</th>\n      <td>3</td>\n      <td>0</td>\n      <td>0</td>\n      <td>255305</td>\n      <td>39181</td>\n      <td>87179</td>\n      <td>2894</td>\n      <td>2012-02-07</td>\n      <td>1127</td>\n      <td>3.0.0</td>\n    </tr>\n    <tr>\n      <th>8</th>\n      <td>3</td>\n      <td>0</td>\n      <td>1</td>\n      <td>256081</td>\n      <td>39290</td>\n      <td>87887</td>\n      <td>2896</td>\n      <td>2012-03-12</td>\n      <td>1161</td>\n      <td>3.0.1</td>\n    </tr>\n    <tr>\n      <th>9</th>\n      <td>3</td>\n      <td>1</td>\n      <td>0</td>\n      <td>258194</td>\n      <td>39307</td>\n      <td>88912</td>\n      <td>2837</td>\n      <td>2012-06-22</td>\n      <td>1263</td>\n      <td>3.1.0</td>\n    </tr>\n    <tr>\n      <th>10</th>\n      <td>3</td>\n      <td>1</td>\n      <td>1</td>\n      <td>258951</td>\n      <td>39420</td>\n      <td>89215</td>\n      <td>2840</td>\n      <td>2012-09-17</td>\n      <td>1350</td>\n      <td>3.1.1</td>\n    </tr>\n    <tr>\n      <th>11</th>\n      <td>3</td>\n      <td>1</td>\n      <td>2</td>\n      <td>259038</td>\n      <td>39435</td>\n      <td>89243</td>\n      <td>2841</td>\n      <td>2012-09-27</td>\n      <td>1360</td>\n      <td>3.1.2</td>\n    </tr>\n    <tr>\n      <th>12</th>\n      <td>3</td>\n      <td>2</td>\n      <td>0</td>\n      <td>323616</td>\n      <td>52380</td>\n      <td>140778</td>\n      <td>3104</td>\n      <td>2012-12-17</td>\n      <td>1441</td>\n      <td>3.2.0</td>\n    </tr>\n    <tr>\n      <th>13</th>\n      <td>3</td>\n      <td>2</td>\n      <td>1</td>\n      <td>325885</td>\n      <td>52767</td>\n      <td>141157</td>\n      <td>3108</td>\n      <td>2013-02-28</td>\n      <td>1514</td>\n      <td>3.2.1</td>\n    </tr>\n    <tr>\n      <th>14</th>\n      <td>3</td>\n      <td>2</td>\n      <td>2</td>\n      <td>325827</td>\n      <td>52749</td>\n      <td>141120</td>\n      <td>3104</td>\n      <td>2013-04-16</td>\n      <td>1561</td>\n      <td>3.2.2</td>\n    </tr>\n    <tr>\n      <th>15</th>\n      <td>3</td>\n      <td>3</td>\n      <td>0</td>\n      <td>416155</td>\n      <td>67460</td>\n      <td>180168</td>\n      <td>3750</td>\n      <td>2013-06-20</td>\n      <td>1626</td>\n      <td>3.3.0</td>\n    </tr>\n    <tr>\n      <th>16</th>\n      <td>3</td>\n      <td>3</td>\n      <td>1</td>\n      <td>424897</td>\n      <td>68849</td>\n      <td>181951</td>\n      <td>3827</td>\n      <td>2013-09-11</td>\n      <td>1709</td>\n      <td>3.3.1</td>\n    </tr>\n    <tr>\n      <th>17</th>\n      <td>3</td>\n      <td>3</td>\n      <td>2</td>\n      <td>425114</td>\n      <td>68870</td>\n      <td>181978</td>\n      <td>3827</td>\n      <td>2013-10-24</td>\n      <td>1752</td>\n      <td>3.3.2</td>\n    </tr>\n    <tr>\n      <th>18</th>\n      <td>3</td>\n      <td>4</td>\n      <td>0</td>\n      <td>356711</td>\n      <td>56997</td>\n      <td>170462</td>\n      <td>3427</td>\n      <td>2013-10-24</td>\n      <td>1752</td>\n      <td>3.4.0</td>\n    </tr>\n    <tr>\n      <th>19</th>\n      <td>3</td>\n      <td>4</td>\n      <td>1</td>\n      <td>356606</td>\n      <td>57092</td>\n      <td>170586</td>\n      <td>3432</td>\n      <td>2013-12-16</td>\n      <td>1805</td>\n      <td>3.4.1</td>\n    </tr>\n    <tr>\n      <th>20</th>\n      <td>3</td>\n      <td>4</td>\n      <td>2</td>\n      <td>357060</td>\n      <td>57139</td>\n      <td>170593</td>\n      <td>3432</td>\n      <td>2014-02-25</td>\n      <td>1876</td>\n      <td>3.4.2</td>\n    </tr>\n    <tr>\n      <th>21</th>\n      <td>4</td>\n      <td>0</td>\n      <td>0</td>\n      <td>422093</td>\n      <td>66220</td>\n      <td>179895</td>\n      <td>3820</td>\n      <td>2014-05-30</td>\n      <td>1970</td>\n      <td>4.0.0</td>\n    </tr>\n    <tr>\n      <th>22</th>\n      <td>4</td>\n      <td>0</td>\n      <td>1</td>\n      <td>419734</td>\n      <td>65988</td>\n      <td>179947</td>\n      <td>3822</td>\n      <td>2014-08-04</td>\n      <td>2036</td>\n      <td>4.0.1</td>\n    </tr>\n    <tr>\n      <th>23</th>\n      <td>4</td>\n      <td>0</td>\n      <td>2</td>\n      <td>420252</td>\n      <td>66093</td>\n      <td>180368</td>\n      <td>3828</td>\n      <td>2014-11-03</td>\n      <td>2127</td>\n      <td>4.0.2</td>\n    </tr>\n    <tr>\n      <th>24</th>\n      <td>4</td>\n      <td>1</td>\n      <td>0</td>\n      <td>483211</td>\n      <td>77090</td>\n      <td>226741</td>\n      <td>4241</td>\n      <td>2015-01-28</td>\n      <td>2213</td>\n      <td>4.1.0</td>\n    </tr>\n    <tr>\n      <th>25</th>\n      <td>4</td>\n      <td>1</td>\n      <td>1</td>\n      <td>486044</td>\n      <td>77357</td>\n      <td>226294</td>\n      <td>4230</td>\n      <td>2015-05-07</td>\n      <td>2312</td>\n      <td>4.1.1</td>\n    </tr>\n    <tr>\n      <th>26</th>\n      <td>4</td>\n      <td>1</td>\n      <td>2</td>\n      <td>486410</td>\n      <td>77411</td>\n      <td>226363</td>\n      <td>4230</td>\n      <td>2015-07-28</td>\n      <td>2394</td>\n      <td>4.1.2</td>\n    </tr>\n    <tr>\n      <th>27</th>\n      <td>4</td>\n      <td>2</td>\n      <td>0</td>\n      <td>499671</td>\n      <td>78935</td>\n      <td>234397</td>\n      <td>4297</td>\n      <td>2015-10-22</td>\n      <td>2480</td>\n      <td>4.2.0</td>\n    </tr>\n    <tr>\n      <th>28</th>\n      <td>4</td>\n      <td>2</td>\n      <td>1</td>\n      <td>500161</td>\n      <td>79043</td>\n      <td>234453</td>\n      <td>4296</td>\n      <td>2015-12-07</td>\n      <td>2526</td>\n      <td>4.2.1</td>\n    </tr>\n    <tr>\n      <th>29</th>\n      <td>4</td>\n      <td>2</td>\n      <td>2</td>\n      <td>501035</td>\n      <td>79137</td>\n      <td>234639</td>\n      <td>4299</td>\n      <td>2016-04-27</td>\n      <td>2668</td>\n      <td>4.2.2</td>\n    </tr>\n    <tr>\n      <th>30</th>\n      <td>4</td>\n      <td>3</td>\n      <td>0</td>\n      <td>515659</td>\n      <td>79336</td>\n      <td>233230</td>\n      <td>4198</td>\n      <td>2016-08-09</td>\n      <td>2772</td>\n      <td>4.3.0</td>\n    </tr>\n    <tr>\n      <th>31</th>\n      <td>4</td>\n      <td>3</td>\n      <td>1</td>\n      <td>515924</td>\n      <td>79361</td>\n      <td>233247</td>\n      <td>4196</td>\n      <td>2016-12-14</td>\n      <td>2899</td>\n      <td>4.3.1</td>\n    </tr>\n    <tr>\n      <th>32</th>\n      <td>4</td>\n      <td>4</td>\n      <td>0</td>\n      <td>532121</td>\n      <td>82317</td>\n      <td>229918</td>\n      <td>4378</td>\n      <td>2017-03-07</td>\n      <td>2982</td>\n      <td>4.4.0</td>\n    </tr>\n    <tr>\n      <th>33</th>\n      <td>4</td>\n      <td>4</td>\n      <td>1</td>\n      <td>532915</td>\n      <td>82355</td>\n      <td>229985</td>\n      <td>4376</td>\n      <td>2017-05-08</td>\n      <td>3044</td>\n      <td>4.4.1</td>\n    </tr>\n    <tr>\n      <th>34</th>\n      <td>4</td>\n      <td>4</td>\n      <td>2</td>\n      <td>533292</td>\n      <td>82399</td>\n      <td>230058</td>\n      <td>4377</td>\n      <td>2017-08-30</td>\n      <td>3158</td>\n      <td>4.4.2</td>\n    </tr>\n  </tbody>\n</table>\n</div>"
     },
     "execution_count": 180,
     "metadata": {},
     "output_type": "execute_result"
    }
   ],
   "source": [
    "maj_min_patch"
   ],
   "metadata": {
    "collapsed": false,
    "pycharm": {
     "name": "#%%\n"
    }
   }
  },
  {
   "cell_type": "code",
   "execution_count": 181,
   "outputs": [
    {
     "name": "stderr",
     "output_type": "stream",
     "text": [
      "Unable to read ../eucalyptus/m4/python.m4\n",
      "Unable to read ../eucalyptus/net/.gitignore\n",
      "Unable to read ../eucalyptus/net/TODO.txt\n",
      "Unable to read ../eucalyptus/net/dev_handler.c\n",
      "Unable to read ../eucalyptus/net/dev_handler.h\n",
      "Unable to read ../eucalyptus/net/ebt_handler.c\n",
      "Unable to read ../eucalyptus/net/ebt_handler.h\n",
      "Unable to read ../eucalyptus/net/euca-to-mido.c\n",
      "Unable to read ../eucalyptus/net/euca-to-mido.h\n",
      "Unable to read ../eucalyptus/net/euca_arp.c\n",
      "Unable to read ../eucalyptus/net/euca_gni.c\n",
      "Unable to read ../eucalyptus/net/euca_gni.h\n",
      "Unable to read ../eucalyptus/net/euca_lni.c\n",
      "Unable to read ../eucalyptus/net/euca_lni.h\n",
      "Unable to read ../eucalyptus/net/eucanetd.c\n",
      "Unable to read ../eucalyptus/net/eucanetd.h\n",
      "Unable to read ../eucalyptus/net/eucanetd_config.h\n",
      "Unable to read ../eucalyptus/net/eucanetd_edge.c\n",
      "Unable to read ../eucalyptus/net/eucanetd_managed.c\n",
      "Unable to read ../eucalyptus/net/eucanetd_managed.h\n",
      "Unable to read ../eucalyptus/net/eucanetd_managednv.c\n",
      "Unable to read ../eucalyptus/net/eucanetd_static.c\n",
      "Unable to read ../eucalyptus/net/eucanetd_system.c\n",
      "Unable to read ../eucalyptus/net/eucanetd_template.c\n",
      "Unable to read ../eucalyptus/net/eucanetd_util.c\n",
      "Unable to read ../eucalyptus/net/eucanetd_util.h\n",
      "Unable to read ../eucalyptus/net/eucanetd_vpc.c\n",
      "Unable to read ../eucalyptus/net/ipr_handler.c\n",
      "Unable to read ../eucalyptus/net/ipr_handler.h\n",
      "Unable to read ../eucalyptus/net/ips_handler.c\n",
      "Unable to read ../eucalyptus/net/ips_handler.h\n",
      "Unable to read ../eucalyptus/net/ipt_handler.c\n",
      "Unable to read ../eucalyptus/net/ipt_handler.h\n",
      "Unable to read ../eucalyptus/net/midonet-api.c\n",
      "Unable to read ../eucalyptus/net/midonet-api.h\n",
      "Unable to read ../eucalyptus/node/client-marshal-fake.c\n",
      "Unable to read ../eucalyptus/node/handlers_default.c\n",
      "Unable to read ../eucalyptus/node/handlers_kvm.c\n",
      "Unable to read ../eucalyptus/node/handlers_xen.c\n",
      "Unable to read ../eucalyptus/node/hooks.c\n",
      "Unable to read ../eucalyptus/node/hooks.h\n",
      "Unable to read ../eucalyptus/node/libvirt_tortura.c\n",
      "Unable to read ../eucalyptus/m4/python.m4\n",
      "Unable to read ../eucalyptus/net/TODO.txt\n",
      "Unable to read ../eucalyptus/net/dev_handler.c\n",
      "Unable to read ../eucalyptus/net/dev_handler.h\n",
      "Unable to read ../eucalyptus/net/ebt_handler.c\n",
      "Unable to read ../eucalyptus/net/ebt_handler.h\n",
      "Unable to read ../eucalyptus/net/euca-to-mido.c\n",
      "Unable to read ../eucalyptus/net/euca-to-mido.h\n",
      "Unable to read ../eucalyptus/net/euca_arp.c\n",
      "Unable to read ../eucalyptus/net/euca_gni.c\n",
      "Unable to read ../eucalyptus/net/euca_gni.h\n",
      "Unable to read ../eucalyptus/net/euca_lni.c\n",
      "Unable to read ../eucalyptus/net/euca_lni.h\n",
      "Unable to read ../eucalyptus/net/eucanetd.c\n",
      "Unable to read ../eucalyptus/net/eucanetd.h\n",
      "Unable to read ../eucalyptus/net/eucanetd_config.h\n",
      "Unable to read ../eucalyptus/net/eucanetd_edge.c\n",
      "Unable to read ../eucalyptus/net/eucanetd_managed.c\n",
      "Unable to read ../eucalyptus/net/eucanetd_managed.h\n",
      "Unable to read ../eucalyptus/net/eucanetd_managednv.c\n",
      "Unable to read ../eucalyptus/net/eucanetd_static.c\n",
      "Unable to read ../eucalyptus/net/eucanetd_system.c\n",
      "Unable to read ../eucalyptus/net/eucanetd_template.c\n",
      "Unable to read ../eucalyptus/net/eucanetd_util.h\n",
      "Unable to read ../eucalyptus/net/eucanetd_vpc.c\n",
      "Unable to read ../eucalyptus/net/ipr_handler.c\n",
      "Unable to read ../eucalyptus/net/ipr_handler.h\n",
      "Unable to read ../eucalyptus/net/ips_handler.c\n",
      "Unable to read ../eucalyptus/net/ips_handler.h\n",
      "Unable to read ../eucalyptus/net/ipt_handler.c\n",
      "Unable to read ../eucalyptus/net/ipt_handler.h\n",
      "Unable to read ../eucalyptus/net/midonet-api.c\n",
      "Unable to read ../eucalyptus/net/midonet-api.h\n"
     ]
    },
    {
     "data": {
      "text/plain": "<matplotlib.legend.Legend at 0x2996d9970>"
     },
     "execution_count": 181,
     "metadata": {},
     "output_type": "execute_result"
    },
    {
     "name": "stderr",
     "output_type": "stream",
     "text": [
      "Unable to read ../eucalyptus/node/xml.c\n",
      "Unable to read ../eucalyptus/node/xml.h\n",
      "Unable to read ../eucalyptus/project/.cproject\n",
      "Unable to read ../eucalyptus/project/.project\n",
      "Unable to read ../eucalyptus/project/.settings/org.eclipse.cdt.codan.core.prefs\n",
      "Unable to read ../eucalyptus/project/cluster\n",
      "Unable to read ../eucalyptus/project/devel\n",
      "Unable to read ../eucalyptus/project/gatherlog\n",
      "Unable to read ../eucalyptus/project/net\n",
      "Unable to read ../eucalyptus/project/node\n",
      "Unable to read ../eucalyptus/project/storage\n",
      "Unable to read ../eucalyptus/project/tools\n",
      "Unable to read ../eucalyptus/project/util\n",
      "Unable to read ../eucalyptus/project/wsdl\n",
      "Unable to read ../eucalyptus/storage/OSGclient.c\n",
      "Unable to read ../eucalyptus/storage/SCclient.c\n",
      "Unable to read ../eucalyptus/storage/backing.c\n",
      "Unable to read ../eucalyptus/storage/backing.h\n",
      "Unable to read ../eucalyptus/storage/blobstore.c\n",
      "Unable to read ../eucalyptus/storage/blobstore.h\n",
      "Unable to read ../eucalyptus/storage/diskutil.c\n",
      "Unable to read ../eucalyptus/storage/diskutil.h\n",
      "Unable to read ../eucalyptus/storage/ebs_utils.c\n",
      "Unable to read ../eucalyptus/storage/ebs_utils.h\n",
      "Unable to read ../eucalyptus/storage/http.c\n",
      "Unable to read ../eucalyptus/storage/http.h\n",
      "Unable to read ../eucalyptus/storage/imager/.gitignore\n",
      "Unable to read ../eucalyptus/storage/imager/LICENSE\n",
      "Unable to read ../eucalyptus/storage/imager/Makefile\n",
      "Unable to read ../eucalyptus/storage/imager/cache.c\n",
      "Unable to read ../eucalyptus/storage/imager/cache.h\n",
      "Unable to read ../eucalyptus/storage/imager/cmd.h\n",
      "Unable to read ../eucalyptus/storage/imager/cmd_bundle.c\n",
      "Unable to read ../eucalyptus/storage/imager/cmd_extract.c\n",
      "Unable to read ../eucalyptus/storage/imager/cmd_fsck.c\n",
      "Unable to read ../eucalyptus/storage/imager/cmd_prepare.c\n",
      "Unable to read ../eucalyptus/storage/imager/diskfile.c\n",
      "Unable to read ../eucalyptus/storage/imager/diskfile.h\n",
      "Unable to read ../eucalyptus/storage/imager/euca-vmdk-wrapper.in\n",
      "Unable to read ../eucalyptus/storage/imager/imager.c\n",
      "Unable to read ../eucalyptus/storage/imager/imager.h\n",
      "Unable to read ../eucalyptus/storage/imager/img.c\n",
      "Unable to read ../eucalyptus/storage/imager/img.h\n",
      "Unable to read ../eucalyptus/storage/imager/test-imager\n",
      "Unable to read ../eucalyptus/storage/iscsi.c\n",
      "Unable to read ../eucalyptus/storage/iscsi.h\n",
      "Unable to read ../eucalyptus/storage/map.c\n",
      "Unable to read ../eucalyptus/storage/map.h\n",
      "Unable to read ../eucalyptus/storage/objectstorage.c\n",
      "Unable to read ../eucalyptus/storage/objectstorage.h\n",
      "Unable to read ../eucalyptus/storage/sc-client-marshal-adb.c\n",
      "Unable to read ../eucalyptus/storage/sc-client-marshal.h\n",
      "Unable to read ../eucalyptus/storage/storage-controller.c\n",
      "Unable to read ../eucalyptus/storage/storage-controller.h\n",
      "Unable to read ../eucalyptus/storage/storage-windows.c\n",
      "Unable to read ../eucalyptus/storage/storage-windows.h\n",
      "Unable to read ../eucalyptus/storage/vbr.c\n",
      "Unable to read ../eucalyptus/storage/vbr.h\n",
      "Unable to read ../eucalyptus/tools/.gitignore\n",
      "Unable to read ../eucalyptus/tools/Makefile.gen\n",
      "Unable to read ../eucalyptus/tools/authorize-migration-keys.pl\n",
      "Unable to read ../eucalyptus/tools/clcadmin-assume-system-credentials\n",
      "Unable to read ../eucalyptus/tools/clcadmin-copy-keys\n",
      "Unable to read ../eucalyptus/tools/clcadmin-grant-admin-access\n",
      "Unable to read ../eucalyptus/tools/clcadmin-initialize-cloud\n",
      "Unable to read ../eucalyptus/tools/clusteradmin-register-nodes\n",
      "Unable to read ../eucalyptus/tools/connect_iscsitarget.pl\n",
      "Unable to read ../eucalyptus/tools/connect_iscsitarget_main.pl\n",
      "Unable to read ../eucalyptus/tools/connect_iscsitarget_sc.pl\n",
      "Unable to read ../eucalyptus/tools/conntrack_kernel_params\n",
      "Unable to read ../eucalyptus/tools/create-loop-devices\n",
      "Unable to read ../eucalyptus/tools/detach.pl\n",
      "Unable to read ../eucalyptus/tools/disconnect_iscsitarget.pl\n",
      "Unable to read ../eucalyptus/tools/disconnect_iscsitarget_main.pl\n",
      "Unable to read ../eucalyptus/tools/disconnect_iscsitarget_sc.pl\n",
      "Unable to read ../eucalyptus/tools/dynserv.pl\n",
      "Unable to read ../eucalyptus/tools/elb-security-policy/elb_security_policy_2011_08.json\n",
      "Unable to read ../eucalyptus/tools/elb-security-policy/elb_security_policy_2014_01.json\n",
      "Unable to read ../eucalyptus/tools/elb-security-policy/elb_security_policy_2014_10.json\n",
      "Unable to read ../eucalyptus/tools/elb-security-policy/elb_security_policy_2015_02.json\n",
      "Unable to read ../eucalyptus/tools/elb-security-policy/elb_security_policy_2015_05.json\n",
      "Unable to read ../eucalyptus/tools/euca-lictool\n",
      "Unable to read ../eucalyptus/tools/euca-upgrade\n",
      "Unable to read ../eucalyptus/tools/euca_arpt\n",
      "Unable to read ../eucalyptus/tools/euca_conf.8\n",
      "Unable to read ../eucalyptus/tools/euca_conf.complete\n",
      "Unable to read ../eucalyptus/tools/eucalyptus-backup-restore\n",
      "Unable to read ../eucalyptus/tools/eucalyptus-cc.in\n",
      "Unable to read ../eucalyptus/tools/eucalyptus-cloud.in\n",
      "Unable to read ../eucalyptus/tools/eucalyptus-logrotate.conf.in\n",
      "Unable to read ../eucalyptus/tools/eucalyptus-nc-libvirt.pkla\n",
      "Unable to read ../eucalyptus/tools/eucalyptus-nc.in\n",
      "Unable to read ../eucalyptus/tools/eucalyptus.conf.5\n",
      "Unable to read ../eucalyptus/tools/eucanetd.in\n",
      "Unable to read ../eucalyptus/tools/gen_kvm_libvirt_xml\n",
      "Unable to read ../eucalyptus/tools/generate-migration-keys.sh\n",
      "Unable to read ../eucalyptus/tools/get_bundle\n",
      "Unable to read ../eucalyptus/tools/get_iscsitarget.pl\n",
      "Unable to read ../eucalyptus/tools/get_sys_info\n",
      "Unable to read ../eucalyptus/tools/getstats.pl\n",
      "Unable to read ../eucalyptus/tools/getstats_net.pl\n",
      "Unable to read ../eucalyptus/tools/getusercred.sh\n",
      "Unable to read ../eucalyptus/tools/howto-update-floppy.txt\n",
      "Unable to read ../eucalyptus/tools/imaging/.gitignore\n",
      "Unable to read ../eucalyptus/tools/imaging/Makefile\n",
      "Unable to read ../eucalyptus/tools/imaging/bin/euca-run-workflow\n",
      "Unable to read ../eucalyptus/tools/imaging/eucatoolkit/.gitignore\n",
      "Unable to read ../eucalyptus/tools/imaging/eucatoolkit/__init__.py.in\n",
      "Unable to read ../eucalyptus/tools/imaging/eucatoolkit/stages/__init__.py\n",
      "Unable to read ../eucalyptus/tools/imaging/eucatoolkit/stages/cryptoutils.py\n",
      "Unable to read ../eucalyptus/tools/imaging/eucatoolkit/stages/downloadimage.py\n",
      "Unable to read ../eucalyptus/tools/imaging/eucatoolkit/stages/downloadmanifest.py\n",
      "Unable to read ../eucalyptus/tools/imaging/eucatoolkit/stages/downloadpart.py\n",
      "Unable to read ../eucalyptus/tools/imaging/eucatoolkit/stages/processutils.py\n",
      "Unable to read ../eucalyptus/tools/imaging/setup.cfg.template.in\n",
      "Unable to read ../eucalyptus/tools/imaging/setup.py\n",
      "Unable to read ../eucalyptus/tools/iptables-preload.template\n",
      "Unable to read ../eucalyptus/tools/iscsid.conf.example\n",
      "Unable to read ../eucalyptus/tools/iscsitarget_common.pl\n",
      "Unable to read ../eucalyptus/tools/libvirt-kvm-windows-example.xml\n",
      "Unable to read ../eucalyptus/tools/libvirt-xen-windows-example.xml\n",
      "Unable to read ../eucalyptus/tools/libvirt.xsl\n",
      "Unable to read ../eucalyptus/tools/lic_default\n",
      "Unable to read ../eucalyptus/tools/lic_template\n",
      "Unable to read ../eucalyptus/tools/multipath.conf.example.equallogic\n",
      "Unable to read ../eucalyptus/tools/multipath.conf.example.netapp\n",
      "Unable to read ../eucalyptus/tools/nc-hooks/example.sh\n",
      "Unable to read ../eucalyptus/tools/nc-hooks/libvirt-check.sh\n",
      "Unable to read ../eucalyptus/tools/nc-hooks/platform-2-console.sh\n",
      "Unable to read ../eucalyptus/tools/nginx_proxy.conf\n",
      "Unable to read ../eucalyptus/tools/partition2disk\n",
      "Unable to read ../eucalyptus/tools/populate_arp.pl\n",
      "Unable to read ../eucalyptus/tools/service-images.yml\n",
      "Unable to read ../eucalyptus/tools/status/Makefile\n",
      "Unable to read ../eucalyptus/tools/status/nagios/check_component_health\n",
      "Unable to read ../eucalyptus/tools/status/nagios/check_euca_proc\n",
      "Unable to read ../eucalyptus/tools/status/sensor_utils.py\n",
      "Unable to read ../eucalyptus/tools/vtunall.conf.template\n",
      "Unable to read ../eucalyptus/util/README.faults\n",
      "Unable to read ../eucalyptus/util/adb-helpers.h\n",
      "Unable to read ../eucalyptus/util/adb-service-helpers.h\n",
      "Unable to read ../eucalyptus/util/atomic_file.c\n",
      "Unable to read ../eucalyptus/util/atomic_file.h\n",
      "Unable to read ../eucalyptus/util/config.c\n",
      "Unable to read ../eucalyptus/util/config.h\n",
      "Unable to read ../eucalyptus/node/client-marshal-fake.c\n",
      "Unable to read ../eucalyptus/node/handlers_default.c\n",
      "Unable to read ../eucalyptus/node/handlers_kvm.c\n",
      "Unable to read ../eucalyptus/node/handlers_xen.c\n",
      "Unable to read ../eucalyptus/node/hooks.c\n",
      "Unable to read ../eucalyptus/node/hooks.h\n",
      "Unable to read ../eucalyptus/node/libvirt_tortura.c\n",
      "Unable to read ../eucalyptus/node/xml.c\n",
      "Unable to read ../eucalyptus/node/xml.h\n",
      "Unable to read ../eucalyptus/project/.cproject\n",
      "Unable to read ../eucalyptus/project/.project\n",
      "Unable to read ../eucalyptus/project/.settings/org.eclipse.cdt.codan.core.prefs\n",
      "Unable to read ../eucalyptus/project/gatherlog\n",
      "Unable to read ../eucalyptus/project/net\n",
      "Unable to read ../eucalyptus/storage/OSGclient.c\n",
      "Unable to read ../eucalyptus/storage/SCclient.c\n",
      "Unable to read ../eucalyptus/storage/backing.c\n",
      "Unable to read ../eucalyptus/storage/backing.h\n",
      "Unable to read ../eucalyptus/storage/blobstore.c\n",
      "Unable to read ../eucalyptus/storage/blobstore.h\n",
      "Unable to read ../eucalyptus/storage/diskutil.c\n",
      "Unable to read ../eucalyptus/storage/diskutil.h\n",
      "Unable to read ../eucalyptus/storage/ebs_utils.c\n",
      "Unable to read ../eucalyptus/storage/ebs_utils.h\n",
      "Unable to read ../eucalyptus/storage/http.c\n",
      "Unable to read ../eucalyptus/storage/http.h\n",
      "Unable to read ../eucalyptus/storage/imager/.gitignore\n",
      "Unable to read ../eucalyptus/storage/imager/LICENSE\n",
      "Unable to read ../eucalyptus/storage/imager/Makefile\n",
      "Unable to read ../eucalyptus/storage/imager/cache.c\n",
      "Unable to read ../eucalyptus/storage/imager/cache.h\n",
      "Unable to read ../eucalyptus/storage/imager/cmd.h\n",
      "Unable to read ../eucalyptus/storage/imager/cmd_bundle.c\n",
      "Unable to read ../eucalyptus/storage/imager/cmd_extract.c\n",
      "Unable to read ../eucalyptus/storage/imager/cmd_fsck.c\n",
      "Unable to read ../eucalyptus/storage/imager/cmd_prepare.c\n",
      "Unable to read ../eucalyptus/storage/imager/diskfile.c\n",
      "Unable to read ../eucalyptus/storage/imager/diskfile.h\n",
      "Unable to read ../eucalyptus/storage/imager/euca-vmdk-wrapper.in\n",
      "Unable to read ../eucalyptus/storage/imager/imager.c\n",
      "Unable to read ../eucalyptus/storage/imager/imager.h\n",
      "Unable to read ../eucalyptus/storage/imager/img.c\n",
      "Unable to read ../eucalyptus/storage/imager/img.h\n",
      "Unable to read ../eucalyptus/storage/imager/test-imager\n",
      "Unable to read ../eucalyptus/storage/iscsi.c\n",
      "Unable to read ../eucalyptus/storage/map.c\n",
      "Unable to read ../eucalyptus/storage/map.h\n",
      "Unable to read ../eucalyptus/storage/objectstorage.c\n",
      "Unable to read ../eucalyptus/storage/objectstorage.h\n",
      "Unable to read ../eucalyptus/storage/sc-client-marshal-adb.c\n",
      "Unable to read ../eucalyptus/storage/sc-client-marshal.h\n",
      "Unable to read ../eucalyptus/storage/storage-controller.c\n",
      "Unable to read ../eucalyptus/storage/storage-controller.h\n",
      "Unable to read ../eucalyptus/storage/storage-windows.c\n",
      "Unable to read ../eucalyptus/storage/storage-windows.h\n",
      "Unable to read ../eucalyptus/storage/vbr.c\n",
      "Unable to read ../eucalyptus/storage/vbr.h\n",
      "Unable to read ../eucalyptus/tools/.gitignore\n",
      "Unable to read ../eucalyptus/tools/Makefile.gen\n",
      "Unable to read ../eucalyptus/tools/authorize-migration-keys.pl\n",
      "Unable to read ../eucalyptus/tools/clcadmin-assume-system-credentials\n",
      "Unable to read ../eucalyptus/tools/clcadmin-copy-keys\n",
      "Unable to read ../eucalyptus/tools/clcadmin-grant-admin-access\n",
      "Unable to read ../eucalyptus/tools/clcadmin-initialize-cloud\n",
      "Unable to read ../eucalyptus/tools/clusteradmin-register-nodes\n",
      "Unable to read ../eucalyptus/tools/connect_iscsitarget.pl\n",
      "Unable to read ../eucalyptus/tools/connect_iscsitarget_main.pl\n",
      "Unable to read ../eucalyptus/tools/connect_iscsitarget_sc.pl\n",
      "Unable to read ../eucalyptus/tools/conntrack_kernel_params\n",
      "Unable to read ../eucalyptus/tools/create-loop-devices\n",
      "Unable to read ../eucalyptus/tools/detach.pl\n",
      "Unable to read ../eucalyptus/tools/disconnect_iscsitarget.pl\n",
      "Unable to read ../eucalyptus/tools/disconnect_iscsitarget_main.pl\n",
      "Unable to read ../eucalyptus/tools/disconnect_iscsitarget_sc.pl\n",
      "Unable to read ../eucalyptus/tools/dynserv.pl\n",
      "Unable to read ../eucalyptus/tools/elb-security-policy/elb_security_policy_2011_08.json\n",
      "Unable to read ../eucalyptus/tools/elb-security-policy/elb_security_policy_2014_01.json\n",
      "Unable to read ../eucalyptus/tools/elb-security-policy/elb_security_policy_2014_10.json\n",
      "Unable to read ../eucalyptus/tools/elb-security-policy/elb_security_policy_2015_02.json\n",
      "Unable to read ../eucalyptus/tools/elb-security-policy/elb_security_policy_2015_05.json\n",
      "Unable to read ../eucalyptus/tools/euca-lictool\n",
      "Unable to read ../eucalyptus/tools/euca-upgrade\n",
      "Unable to read ../eucalyptus/tools/euca_arpt\n",
      "Unable to read ../eucalyptus/tools/euca_conf.8\n",
      "Unable to read ../eucalyptus/tools/euca_conf.complete\n",
      "Unable to read ../eucalyptus/tools/eucalyptus-backup-restore\n",
      "Unable to read ../eucalyptus/tools/eucalyptus-cc.in\n",
      "Unable to read ../eucalyptus/tools/eucalyptus-cloud.in\n",
      "Unable to read ../eucalyptus/tools/eucalyptus-logrotate.conf.in\n",
      "Unable to read ../eucalyptus/tools/eucalyptus-nc-libvirt.pkla\n",
      "Unable to read ../eucalyptus/tools/eucalyptus-nc.in\n",
      "Unable to read ../eucalyptus/tools/eucalyptus.conf.5\n",
      "Unable to read ../eucalyptus/tools/eucanetd.in\n",
      "Unable to read ../eucalyptus/tools/gen_kvm_libvirt_xml\n",
      "Unable to read ../eucalyptus/tools/generate-migration-keys.sh\n",
      "Unable to read ../eucalyptus/tools/get_bundle\n",
      "Unable to read ../eucalyptus/tools/get_iscsitarget.pl\n",
      "Unable to read ../eucalyptus/tools/get_sys_info\n",
      "Unable to read ../eucalyptus/tools/getstats.pl\n",
      "Unable to read ../eucalyptus/tools/getstats_net.pl\n",
      "Unable to read ../eucalyptus/tools/getusercred.sh\n",
      "Unable to read ../eucalyptus/tools/howto-update-floppy.txt\n",
      "Unable to read ../eucalyptus/tools/imaging/.gitignore\n",
      "Unable to read ../eucalyptus/tools/imaging/Makefile\n",
      "Unable to read ../eucalyptus/tools/imaging/bin/euca-run-workflow\n",
      "Unable to read ../eucalyptus/tools/imaging/eucatoolkit/.gitignore\n",
      "Unable to read ../eucalyptus/tools/imaging/eucatoolkit/__init__.py.in\n",
      "Unable to read ../eucalyptus/tools/imaging/eucatoolkit/stages/__init__.py\n",
      "Unable to read ../eucalyptus/tools/imaging/eucatoolkit/stages/cryptoutils.py\n",
      "Unable to read ../eucalyptus/tools/imaging/eucatoolkit/stages/downloadimage.py\n",
      "Unable to read ../eucalyptus/tools/imaging/eucatoolkit/stages/downloadmanifest.py\n",
      "Unable to read ../eucalyptus/tools/imaging/eucatoolkit/stages/downloadpart.py\n",
      "Unable to read ../eucalyptus/tools/imaging/eucatoolkit/stages/processutils.py\n",
      "Unable to read ../eucalyptus/tools/imaging/setup.cfg.template.in\n",
      "Unable to read ../eucalyptus/tools/imaging/setup.py\n",
      "Unable to read ../eucalyptus/tools/iptables-preload.template\n",
      "Unable to read ../eucalyptus/tools/iscsid.conf.example\n",
      "Unable to read ../eucalyptus/tools/iscsitarget_common.pl\n",
      "Unable to read ../eucalyptus/tools/libvirt-kvm-windows-example.xml\n",
      "Unable to read ../eucalyptus/tools/libvirt-xen-windows-example.xml\n",
      "Unable to read ../eucalyptus/tools/libvirt.xsl\n",
      "Unable to read ../eucalyptus/tools/lic_default\n",
      "Unable to read ../eucalyptus/tools/lic_template\n",
      "Unable to read ../eucalyptus/tools/multipath.conf.example.equallogic\n",
      "Unable to read ../eucalyptus/tools/multipath.conf.example.netapp\n",
      "Unable to read ../eucalyptus/tools/nc-hooks/example.sh\n",
      "Unable to read ../eucalyptus/tools/nc-hooks/libvirt-check.sh\n",
      "Unable to read ../eucalyptus/tools/nc-hooks/platform-2-console.sh\n",
      "Unable to read ../eucalyptus/tools/nginx_proxy.conf\n",
      "Unable to read ../eucalyptus/tools/partition2disk\n",
      "Unable to read ../eucalyptus/tools/populate_arp.pl\n",
      "Unable to read ../eucalyptus/tools/service-images.yml\n",
      "Unable to read ../eucalyptus/tools/status/Makefile\n",
      "Unable to read ../eucalyptus/tools/status/nagios/check_component_health\n",
      "Unable to read ../eucalyptus/tools/status/nagios/check_euca_proc\n",
      "Unable to read ../eucalyptus/tools/status/sensor_utils.py\n",
      "Unable to read ../eucalyptus/tools/vtunall.conf.template\n",
      "Unable to read ../eucalyptus/util/README.faults\n",
      "Unable to read ../eucalyptus/util/adb-helpers.h\n",
      "Unable to read ../eucalyptus/util/adb-service-helpers.h\n",
      "Unable to read ../eucalyptus/util/atomic_file.c\n",
      "Unable to read ../eucalyptus/util/atomic_file.h\n",
      "Unable to read ../eucalyptus/util/config.c\n",
      "Unable to read ../eucalyptus/util/config.h\n",
      "Unable to read ../eucalyptus/util/euca_axis.c\n",
      "Unable to read ../eucalyptus/util/euca_axis.h\n",
      "Unable to read ../eucalyptus/util/euca_file.c\n",
      "Unable to read ../eucalyptus/util/euca_file.h\n",
      "Unable to read ../eucalyptus/util/euca_mountwrap.c\n",
      "Unable to read ../eucalyptus/util/euca_network.c\n",
      "Unable to read ../eucalyptus/util/euca_network.h\n",
      "Unable to read ../eucalyptus/util/euca_axis.c\n",
      "Unable to read ../eucalyptus/util/euca_axis.h\n",
      "Unable to read ../eucalyptus/util/euca_file.c\n",
      "Unable to read ../eucalyptus/util/euca_file.h\n",
      "Unable to read ../eucalyptus/util/euca_mountwrap.c\n",
      "Unable to read ../eucalyptus/util/euca_network.c\n",
      "Unable to read ../eucalyptus/util/euca_network.h\n",
      "Unable to read ../eucalyptus/util/euca_rootwrap.c\n",
      "Unable to read ../eucalyptus/util/euca_string.c\n",
      "Unable to read ../eucalyptus/util/euca_string.h\n",
      "Unable to read ../eucalyptus/util/euca_system.c\n",
      "Unable to read ../eucalyptus/util/euca_system.h\n",
      "Unable to read ../eucalyptus/util/eucalyptus-config.h.in\n",
      "Unable to read ../eucalyptus/util/fault.c\n",
      "Unable to read ../eucalyptus/util/fault.h\n",
      "Unable to read ../eucalyptus/util/faults/en_US/1001.xml\n",
      "Unable to read ../eucalyptus/util/faults/en_US/1002.xml\n",
      "Unable to read ../eucalyptus/util/faults/en_US/1003.xml\n",
      "Unable to read ../eucalyptus/util/faults/en_US/1004.xml\n",
      "Unable to read ../eucalyptus/util/faults/en_US/1005.xml\n",
      "Unable to read ../eucalyptus/util/faults/en_US/1006.xml\n",
      "Unable to read ../eucalyptus/util/faults/en_US/1008.xml\n",
      "Unable to read ../eucalyptus/util/faults/en_US/1009.xml\n",
      "Unable to read ../eucalyptus/util/faults/en_US/1010.xml\n",
      "Unable to read ../eucalyptus/util/faults/en_US/1011.xml\n",
      "Unable to read ../eucalyptus/util/faults/en_US/1012.xml\n",
      "Unable to read ../eucalyptus/util/faults/en_US/1013.xml\n",
      "Unable to read ../eucalyptus/util/faults/en_US/1014.xml\n",
      "Unable to read ../eucalyptus/util/faults/en_US/1015.xml\n",
      "Unable to read ../eucalyptus/util/faults/en_US/1500.xml\n",
      "Unable to read ../eucalyptus/util/faults/en_US/1501.xml\n",
      "Unable to read ../eucalyptus/util/faults/en_US/2000.xml\n",
      "Unable to read ../eucalyptus/util/faults/en_US/2001.xml\n",
      "Unable to read ../eucalyptus/util/faults/en_US/2002.xml\n",
      "Unable to read ../eucalyptus/util/faults/en_US/2003.xml\n",
      "Unable to read ../eucalyptus/util/faults/en_US/common.xml\n",
      "Unable to read ../eucalyptus/util/faults/ru_RU/1002.xml\n",
      "Unable to read ../eucalyptus/util/faults/ru_RU/1234.xml\n",
      "Unable to read ../eucalyptus/util/faults/ru_RU/1235.xml\n",
      "Unable to read ../eucalyptus/util/faults/ru_RU/common.xml\n",
      "Unable to read ../eucalyptus/util/hash.c\n",
      "Unable to read ../eucalyptus/util/hash.h\n",
      "Unable to read ../eucalyptus/util/instance33.h\n",
      "Unable to read ../eucalyptus/util/log.c\n",
      "Unable to read ../eucalyptus/util/log.h\n",
      "Unable to read ../eucalyptus/util/sensor.c\n",
      "Unable to read ../eucalyptus/util/sensor.h\n",
      "Unable to read ../eucalyptus/util/sequence_executor.c\n",
      "Unable to read ../eucalyptus/util/sequence_executor.h\n",
      "Unable to read ../eucalyptus/util/stats/Makefile\n",
      "Unable to read ../eucalyptus/util/stats/fs_emitter.c\n",
      "Unable to read ../eucalyptus/util/stats/fs_emitter.h\n",
      "Unable to read ../eucalyptus/util/stats/message_sensor.c\n",
      "Unable to read ../eucalyptus/util/stats/message_sensor.h\n",
      "Unable to read ../eucalyptus/util/stats/message_stats.c\n",
      "Unable to read ../eucalyptus/util/stats/message_stats.h\n",
      "Unable to read ../eucalyptus/util/stats/sensor_common.c\n",
      "Unable to read ../eucalyptus/util/stats/sensor_common.h\n",
      "Unable to read ../eucalyptus/util/stats/service_sensor.c\n",
      "Unable to read ../eucalyptus/util/stats/service_sensor.h\n",
      "Unable to read ../eucalyptus/util/stats/stats.c\n",
      "Unable to read ../eucalyptus/util/stats/stats.h\n",
      "Unable to read ../eucalyptus/util/template.c\n",
      "Unable to read ../eucalyptus/util/template.h\n",
      "Unable to read ../eucalyptus/util/utf8.c\n",
      "Unable to read ../eucalyptus/util/utf8.h\n",
      "Unable to read ../eucalyptus/util/wc.c\n",
      "Unable to read ../eucalyptus/util/wc.h\n",
      "Unable to read ../eucalyptus/wsdl/eucalyptus_sc.wsdl\n",
      "Unable to read ../eucalyptus/util/euca_rootwrap.c\n",
      "Unable to read ../eucalyptus/util/euca_string.c\n",
      "Unable to read ../eucalyptus/util/euca_string.h\n",
      "Unable to read ../eucalyptus/util/euca_system.c\n",
      "Unable to read ../eucalyptus/util/euca_system.h\n",
      "Unable to read ../eucalyptus/util/eucalyptus-config.h.in\n",
      "Unable to read ../eucalyptus/util/fault.c\n",
      "Unable to read ../eucalyptus/util/fault.h\n",
      "Unable to read ../eucalyptus/util/faults/en_US/1001.xml\n",
      "Unable to read ../eucalyptus/util/faults/en_US/1002.xml\n",
      "Unable to read ../eucalyptus/util/faults/en_US/1003.xml\n",
      "Unable to read ../eucalyptus/util/faults/en_US/1004.xml\n",
      "Unable to read ../eucalyptus/util/faults/en_US/1005.xml\n",
      "Unable to read ../eucalyptus/util/faults/en_US/1006.xml\n",
      "Unable to read ../eucalyptus/util/faults/en_US/1008.xml\n",
      "Unable to read ../eucalyptus/util/faults/en_US/1009.xml\n",
      "Unable to read ../eucalyptus/util/faults/en_US/1010.xml\n",
      "Unable to read ../eucalyptus/util/faults/en_US/1011.xml\n",
      "Unable to read ../eucalyptus/util/faults/en_US/1012.xml\n",
      "Unable to read ../eucalyptus/util/faults/en_US/1013.xml\n",
      "Unable to read ../eucalyptus/util/faults/en_US/1014.xml\n",
      "Unable to read ../eucalyptus/util/faults/en_US/1015.xml\n",
      "Unable to read ../eucalyptus/util/faults/en_US/1500.xml\n",
      "Unable to read ../eucalyptus/util/faults/en_US/1501.xml\n",
      "Unable to read ../eucalyptus/util/faults/en_US/2000.xml\n",
      "Unable to read ../eucalyptus/util/faults/en_US/2001.xml\n",
      "Unable to read ../eucalyptus/util/faults/en_US/2002.xml\n",
      "Unable to read ../eucalyptus/util/faults/en_US/2003.xml\n",
      "Unable to read ../eucalyptus/util/faults/en_US/common.xml\n",
      "Unable to read ../eucalyptus/util/faults/ru_RU/1002.xml\n",
      "Unable to read ../eucalyptus/util/faults/ru_RU/1234.xml\n",
      "Unable to read ../eucalyptus/util/faults/ru_RU/1235.xml\n",
      "Unable to read ../eucalyptus/util/faults/ru_RU/common.xml\n",
      "Unable to read ../eucalyptus/util/hash.c\n",
      "Unable to read ../eucalyptus/util/hash.h\n",
      "Unable to read ../eucalyptus/util/instance33.h\n",
      "Unable to read ../eucalyptus/util/log.c\n",
      "Unable to read ../eucalyptus/util/log.h\n",
      "Unable to read ../eucalyptus/util/sensor.c\n",
      "Unable to read ../eucalyptus/util/sensor.h\n",
      "Unable to read ../eucalyptus/util/sequence_executor.c\n",
      "Unable to read ../eucalyptus/util/sequence_executor.h\n",
      "Unable to read ../eucalyptus/util/stats/Makefile\n",
      "Unable to read ../eucalyptus/util/stats/fs_emitter.c\n",
      "Unable to read ../eucalyptus/util/stats/fs_emitter.h\n",
      "Unable to read ../eucalyptus/util/stats/message_sensor.c\n",
      "Unable to read ../eucalyptus/util/stats/message_sensor.h\n",
      "Unable to read ../eucalyptus/util/stats/message_stats.c\n",
      "Unable to read ../eucalyptus/util/stats/message_stats.h\n",
      "Unable to read ../eucalyptus/util/stats/sensor_common.c\n",
      "Unable to read ../eucalyptus/util/stats/sensor_common.h\n",
      "Unable to read ../eucalyptus/util/stats/service_sensor.c\n",
      "Unable to read ../eucalyptus/util/stats/service_sensor.h\n",
      "Unable to read ../eucalyptus/util/stats/stats.c\n",
      "Unable to read ../eucalyptus/util/stats/stats.h\n",
      "Unable to read ../eucalyptus/util/template.c\n",
      "Unable to read ../eucalyptus/util/template.h\n",
      "Unable to read ../eucalyptus/util/utf8.c\n",
      "Unable to read ../eucalyptus/util/utf8.h\n",
      "Unable to read ../eucalyptus/util/wc.c\n",
      "Unable to read ../eucalyptus/util/wc.h\n",
      "Unable to read ../eucalyptus/wsdl/eucalyptus_sc.wsdl\n",
      "\n",
      "10 errors:\n",
      "Unable to read:  ../eucalyptus/project/node\n",
      "Unable to read:  ../eucalyptus/project/util\n",
      "Unable to read:  ../eucalyptus/project/wsdl\n",
      "Unable to read:  ../eucalyptus/project/devel\n",
      "Unable to read:  ../eucalyptus/project/tools\n",
      "Unable to read:  ../eucalyptus/net/.gitignore\n",
      "Unable to read:  ../eucalyptus/project/cluster\n",
      "Unable to read:  ../eucalyptus/project/storage\n",
      "Unable to read:  ../eucalyptus/storage/iscsi.h\n",
      "Unable to read:  ../eucalyptus/net/eucanetd_util.c\n"
     ]
    },
    {
     "data": {
      "text/plain": "<Figure size 640x480 with 4 Axes>",
      "image/png": "[encoded data removed]"
     },
     "metadata": {},
     "output_type": "display_data"
    }
   ],
   "source": [
    "fig,axes = plt.subplots(2,2)\n",
    "\n",
    "axes[0, 0].plot(maj_min[\"major.minor\"], maj_min['nb_code'], label = \"nb_code\")\n",
    "\n",
    "axes[0, 0].legend()\n",
    "\n",
    "axes[0, 1].plot(maj_min_patch[\"major.minor.patch\"], maj_min_patch['nb_code'], label = \"nb_code\")\n",
    "axes[0, 1].plot(maj_min_patch[\"major.minor.patch\"], maj_min_patch['nb_blank'], label = \"nb_blank\")\n",
    "axes[0, 1].plot(maj_min_patch[\"major.minor.patch\"], maj_min_patch['nb_comment'], label = \"nb_comment\")\n",
    "axes[0, 1].plot(maj_min_patch[\"major.minor.patch\"], maj_min_patch['nb_nfiles'], label = \"nb_nfiles\")\n",
    "axes[0, 1].legend()\n",
    "axes[1, 0].plot(maj_min[\"relative_day\"], maj_min['nb_code'], label = \"nb_code\")\n",
    "\n",
    "axes[1, 0].legend()\n",
    "axes[1, 1].plot(maj_min_patch[\"relative_day\"], maj_min_patch['nb_code'], label = \"nb_code\")\n",
    "\n",
    "axes[1, 1].legend()\n",
    "\n"
   ],
   "metadata": {
    "collapsed": false,
    "pycharm": {
     "name": "#%%\n"
    }
   }
  },
  {
   "cell_type": "markdown",
   "id": "8774bc4c-9131-425d-b8d2-9d0940e48f6c",
   "metadata": {},
   "source": [
    "### Questions:\n",
    "1. Do you find any difference between the plot that is having date in the x-axis and the plot that is having tag in the x-axis? If yes, then what is the difference? If no, then why is it same?"
   ]
  },
  {
   "cell_type": "markdown",
   "id": "b03dae7d-de25-4146-baf6-d8bfd2419549",
   "metadata": {},
   "source": [
    "we can see that graphs are different because graphs from major.minor.patch have more informations and so they are more precise."
   ]
  },
  {
   "cell_type": "markdown",
   "id": "edf025c5-9edc-440d-9bee-5dbdf20431bc",
   "metadata": {},
   "source": [
    "2. Which type of plot is preferable for software evolution analysis?   \n",
    "    a) date in x-axis  \n",
    "    b) tag in x-axis  \n",
    "Why?"
   ]
  },
  {
   "cell_type": "markdown",
   "id": "ea949023-d96b-4fdd-9027-d453bdf51e99",
   "metadata": {},
   "source": [
    "date can evolve arbitrary for example, developer can work a lot during a small amount of time and plot will have a big slope.\n",
    "So, it's better to use tag"
   ]
  },
  {
   "cell_type": "markdown",
   "id": "6110bbae-e381-43ec-9a51-72bf941e3ced",
   "metadata": {},
   "source": [
    "3. Choose an option regarding the growth of the software by considering Dataset A. Motivate your choice using a 1d regression plot (below).  \n",
    "    a) Linear  \n",
    "    b) Sub-linear  \n",
    "    c) Super-linear"
   ]
  },
  {
   "cell_type": "markdown",
   "id": "cb637502-7b6c-4eb2-8b9e-6cc2f3793031",
   "metadata": {},
   "source": [
    "As we can see below, the general shape of our plot is linear."
   ]
  },
  {
   "cell_type": "code",
   "execution_count": 182,
   "id": "1b3a1dc2-2030-4f14-bf05-147628c7dd65",
   "metadata": {},
   "outputs": [
    {
     "data": {
      "text/plain": "[<matplotlib.lines.Line2D at 0x29d3d3e80>]"
     },
     "execution_count": 182,
     "metadata": {},
     "output_type": "execute_result"
    },
    {
     "data": {
      "text/plain": "<Figure size 640x480 with 1 Axes>",
      "image/png": "[encoded data removed]"
     },
     "metadata": {},
     "output_type": "display_data"
    }
   ],
   "source": [
    "X = np.array(maj_min_patch['relative_day'])\n",
    "y = np.array(maj_min_patch['nb_code'])\n",
    "reg = LinearRegression().fit(X.reshape(-1, 1), y.reshape(-1, 1))\n",
    "\n",
    "y_pred = reg.predict (X.reshape(-1, 1))\n",
    "\n",
    "plt.scatter(X, y)\n",
    "\n",
    "plt.plot(X, y)\n",
    "plt.plot(X, y_pred)\n",
    "# Your code for regression plot"
   ]
  },
  {
   "cell_type": "markdown",
   "id": "c7cc92a4-8386-4359-b041-ce267552a09a",
   "metadata": {},
   "source": [
    "### Correlation \n",
    "Correlation is generally used to analyse the relationship between variables. Here, analyse the relationship between the number of lines of code and the number of files using Spearman correlation and Pearson correlation by considering Dataset A. Report the correlation upto 3 decimal places"
   ]
  },
  {
   "cell_type": "markdown",
   "source": [],
   "metadata": {
    "collapsed": false
   }
  },
  {
   "cell_type": "markdown",
   "source": [],
   "metadata": {
    "collapsed": false
   }
  },
  {
   "cell_type": "code",
   "execution_count": 183,
   "id": "70749ee7-78a8-4344-90cb-2ff0b6a0572f",
   "metadata": {},
   "outputs": [],
   "source": [
    "# Your code for correlation\n",
    "import scipy"
   ]
  },
  {
   "cell_type": "markdown",
   "source": [],
   "metadata": {
    "collapsed": false
   }
  },
  {
   "cell_type": "code",
   "execution_count": 184,
   "outputs": [
    {
     "name": "stdout",
     "output_type": "stream",
     "text": [
      "0.9931074006939323\n"
     ]
    }
   ],
   "source": [
    "pearson = scipy.stats.pearsonr(maj_min_patch[\"nb_code\"], maj_min_patch[\"nb_nfiles\"])\n",
    "pearson = pearson.statistic\n",
    "\n",
    "print (pearson)"
   ],
   "metadata": {
    "collapsed": false,
    "pycharm": {
     "name": "#%%\n"
    }
   }
  },
  {
   "cell_type": "code",
   "execution_count": 185,
   "outputs": [
    {
     "data": {
      "text/plain": "            nb_code  nb_nfiles\nnb_code    1.000000   0.993107\nnb_nfiles  0.993107   1.000000",
      "text/html": "<div>\n<style scoped>\n    .dataframe tbody tr th:only-of-type {\n        vertical-align: middle;\n    }\n\n    .dataframe tbody tr th {\n        vertical-align: top;\n    }\n\n    .dataframe thead th {\n        text-align: right;\n    }\n</style>\n<table border=\"1\" class=\"dataframe\">\n  <thead>\n    <tr style=\"text-align: right;\">\n      <th></th>\n      <th>nb_code</th>\n      <th>nb_nfiles</th>\n    </tr>\n  </thead>\n  <tbody>\n    <tr>\n      <th>nb_code</th>\n      <td>1.000000</td>\n      <td>0.993107</td>\n    </tr>\n    <tr>\n      <th>nb_nfiles</th>\n      <td>0.993107</td>\n      <td>1.000000</td>\n    </tr>\n  </tbody>\n</table>\n</div>"
     },
     "execution_count": 185,
     "metadata": {},
     "output_type": "execute_result"
    }
   ],
   "source": [
    "pd_pearson = maj_min_patch[[\"nb_code\", \"nb_nfiles\"]].corr(method=\"pearson\")\n",
    "\n",
    "pd_pearson"
   ],
   "metadata": {
    "collapsed": false,
    "pycharm": {
     "name": "#%%\n"
    }
   }
  },
  {
   "cell_type": "markdown",
   "source": [],
   "metadata": {
    "collapsed": false
   }
  },
  {
   "cell_type": "code",
   "execution_count": 186,
   "outputs": [
    {
     "name": "stdout",
     "output_type": "stream",
     "text": [
      "0.9771645101978492\n"
     ]
    }
   ],
   "source": [
    "spearman = scipy.stats.spearmanr(maj_min_patch[\"nb_code\"], maj_min_patch[\"nb_nfiles\"]).statistic\n",
    "\n",
    "print (spearman)"
   ],
   "metadata": {
    "collapsed": false,
    "pycharm": {
     "name": "#%%\n"
    }
   }
  },
  {
   "cell_type": "code",
   "execution_count": 187,
   "outputs": [
    {
     "data": {
      "text/plain": "            nb_code  nb_nfiles\nnb_code    1.000000   0.977165\nnb_nfiles  0.977165   1.000000",
      "text/html": "<div>\n<style scoped>\n    .dataframe tbody tr th:only-of-type {\n        vertical-align: middle;\n    }\n\n    .dataframe tbody tr th {\n        vertical-align: top;\n    }\n\n    .dataframe thead th {\n        text-align: right;\n    }\n</style>\n<table border=\"1\" class=\"dataframe\">\n  <thead>\n    <tr style=\"text-align: right;\">\n      <th></th>\n      <th>nb_code</th>\n      <th>nb_nfiles</th>\n    </tr>\n  </thead>\n  <tbody>\n    <tr>\n      <th>nb_code</th>\n      <td>1.000000</td>\n      <td>0.977165</td>\n    </tr>\n    <tr>\n      <th>nb_nfiles</th>\n      <td>0.977165</td>\n      <td>1.000000</td>\n    </tr>\n  </tbody>\n</table>\n</div>"
     },
     "execution_count": 187,
     "metadata": {},
     "output_type": "execute_result"
    }
   ],
   "source": [
    "pd_spearman = maj_min_patch[[\"nb_code\", \"nb_nfiles\"]].corr(method=\"spearman\")\n",
    "\n",
    "pd_spearman"
   ],
   "metadata": {
    "collapsed": false,
    "pycharm": {
     "name": "#%%\n"
    }
   }
  },
  {
   "cell_type": "markdown",
   "id": "3e8f82aa-ce42-4355-8de1-916e371f5af2",
   "metadata": {},
   "source": [
    "### Questions:\n",
    "4. Do you find any difference in correlation values between Pearson and Spearman? Which one is preferable for this use case? why?"
   ]
  },
  {
   "cell_type": "markdown",
   "id": "b6e1599e-113c-4bfa-9c0b-eac18aae3a27",
   "metadata": {},
   "source": [
    "pearson is specific for linear regression value so pearson is better in this case"
   ]
  },
  {
   "cell_type": "markdown",
   "id": "fb9a8312-20fd-41f7-875e-668761a998a6",
   "metadata": {},
   "source": [
    "5. Based on the above correlation value, how much is the number of lines of code related to the number of files?"
   ]
  },
  {
   "cell_type": "markdown",
   "id": "4ebe75dc-cb80-469b-909d-ca4293365f25",
   "metadata": {},
   "source": [
    "highly correlated, at 99% for pearson and 97 for spearman"
   ]
  },
  {
   "cell_type": "markdown",
   "id": "72e2ea6c-cb13-4dae-8666-ed599c928efe",
   "metadata": {},
   "source": [
    "### Prediction\n",
    "Consider Dataset A for this task. Drop the last two data points in \"number of lines of code\" (LOC) (i.e. drop (LOC) corresponding to v4.4.1 and v4.4.2) and forecast the values for (LOC) for v4.4.1 and v4.4.2 using a basic linear/polynimial regression model.\n",
    "1. Drop the last two data points\n",
    "2. Build a basic regression model\n",
    "3. Ask the model to forecast the next two data points\n",
    "4. Plot the LOC original and forecasted in the same plot. x-axis = date, y-axis = number of lines of code"
   ]
  },
  {
   "cell_type": "code",
   "execution_count": 188,
   "id": "1a8b2e38-2975-439e-81d3-8c6dc46ccab9",
   "metadata": {},
   "outputs": [],
   "source": [
    "import matplotlib.dates as mdates\n",
    "# Your code here\n",
    "polynomial_degree = 4\n",
    "\n",
    "test_df = maj_min_patch.loc[(maj_min_patch['major.minor.patch'] == 'v4.4.2') | (maj_min_patch['major.minor.patch'] == 'v4.4.1')]\n",
    "train_df = maj_min_patch.drop(test_df.index)\n",
    "\n",
    "train_X = mdates.date2num(train_df['relative_day'].copy()).reshape(-1, 1)\n",
    "train_X = PolynomialFeatures(degree=polynomial_degree, include_bias=False).fit_transform(train_X)\n",
    "train_y = train_df['nb_code']\n"
   ]
  },
  {
   "cell_type": "code",
   "execution_count": 189,
   "id": "e6141273-c4f5-44a9-ac5d-a548b7a7a189",
   "metadata": {},
   "outputs": [
    {
     "data": {
      "text/plain": "LinearRegression()",
      "text/html": "<style>#sk-container-id-6 {color: black;background-color: white;}#sk-container-id-6 pre{padding: 0;}#sk-container-id-6 div.sk-toggleable {background-color: white;}#sk-container-id-6 label.sk-toggleable__label {cursor: pointer;display: block;width: 100%;margin-bottom: 0;padding: 0.3em;box-sizing: border-box;text-align: center;}#sk-container-id-6 label.sk-toggleable__label-arrow:before {content: \"▸\";float: left;margin-right: 0.25em;color: #696969;}#sk-container-id-6 label.sk-toggleable__label-arrow:hover:before {color: black;}#sk-container-id-6 div.sk-estimator:hover label.sk-toggleable__label-arrow:before {color: black;}#sk-container-id-6 div.sk-toggleable__content {max-height: 0;max-width: 0;overflow: hidden;text-align: left;background-color: #f0f8ff;}#sk-container-id-6 div.sk-toggleable__content pre {margin: 0.2em;color: black;border-radius: 0.25em;background-color: #f0f8ff;}#sk-container-id-6 input.sk-toggleable__control:checked~div.sk-toggleable__content {max-height: 200px;max-width: 100%;overflow: auto;}#sk-container-id-6 input.sk-toggleable__control:checked~label.sk-toggleable__label-arrow:before {content: \"▾\";}#sk-container-id-6 div.sk-estimator input.sk-toggleable__control:checked~label.sk-toggleable__label {background-color: #d4ebff;}#sk-container-id-6 div.sk-label input.sk-toggleable__control:checked~label.sk-toggleable__label {background-color: #d4ebff;}#sk-container-id-6 input.sk-hidden--visually {border: 0;clip: rect(1px 1px 1px 1px);clip: rect(1px, 1px, 1px, 1px);height: 1px;margin: -1px;overflow: hidden;padding: 0;position: absolute;width: 1px;}#sk-container-id-6 div.sk-estimator {font-family: monospace;background-color: #f0f8ff;border: 1px dotted black;border-radius: 0.25em;box-sizing: border-box;margin-bottom: 0.5em;}#sk-container-id-6 div.sk-estimator:hover {background-color: #d4ebff;}#sk-container-id-6 div.sk-parallel-item::after {content: \"\";width: 100%;border-bottom: 1px solid gray;flex-grow: 1;}#sk-container-id-6 div.sk-label:hover label.sk-toggleable__label {background-color: #d4ebff;}#sk-container-id-6 div.sk-serial::before {content: \"\";position: absolute;border-left: 1px solid gray;box-sizing: border-box;top: 0;bottom: 0;left: 50%;z-index: 0;}#sk-container-id-6 div.sk-serial {display: flex;flex-direction: column;align-items: center;background-color: white;padding-right: 0.2em;padding-left: 0.2em;position: relative;}#sk-container-id-6 div.sk-item {position: relative;z-index: 1;}#sk-container-id-6 div.sk-parallel {display: flex;align-items: stretch;justify-content: center;background-color: white;position: relative;}#sk-container-id-6 div.sk-item::before, #sk-container-id-6 div.sk-parallel-item::before {content: \"\";position: absolute;border-left: 1px solid gray;box-sizing: border-box;top: 0;bottom: 0;left: 50%;z-index: -1;}#sk-container-id-6 div.sk-parallel-item {display: flex;flex-direction: column;z-index: 1;position: relative;background-color: white;}#sk-container-id-6 div.sk-parallel-item:first-child::after {align-self: flex-end;width: 50%;}#sk-container-id-6 div.sk-parallel-item:last-child::after {align-self: flex-start;width: 50%;}#sk-container-id-6 div.sk-parallel-item:only-child::after {width: 0;}#sk-container-id-6 div.sk-dashed-wrapped {border: 1px dashed gray;margin: 0 0.4em 0.5em 0.4em;box-sizing: border-box;padding-bottom: 0.4em;background-color: white;}#sk-container-id-6 div.sk-label label {font-family: monospace;font-weight: bold;display: inline-block;line-height: 1.2em;}#sk-container-id-6 div.sk-label-container {text-align: center;}#sk-container-id-6 div.sk-container {/* jupyter's `normalize.less` sets `[hidden] { display: none; }` but bootstrap.min.css set `[hidden] { display: none !important; }` so we also need the `!important` here to be able to override the default hidden behavior on the sphinx rendered scikit-learn.org. See: https://github.com/scikit-learn/scikit-learn/issues/21755 */display: inline-block !important;position: relative;}#sk-container-id-6 div.sk-text-repr-fallback {display: none;}</style><div id=\"sk-container-id-6\" class=\"sk-top-container\"><div class=\"sk-text-repr-fallback\"><pre>LinearRegression()</pre><b>In a Jupyter environment, please rerun this cell to show the HTML representation or trust the notebook. <br />On GitHub, the HTML representation is unable to render, please try loading this page with nbviewer.org.</b></div><div class=\"sk-container\" hidden><div class=\"sk-item\"><div class=\"sk-estimator sk-toggleable\"><input class=\"sk-toggleable__control sk-hidden--visually\" id=\"sk-estimator-id-6\" type=\"checkbox\" checked><label for=\"sk-estimator-id-6\" class=\"sk-toggleable__label sk-toggleable__label-arrow\">LinearRegression</label><div class=\"sk-toggleable__content\"><pre>LinearRegression()</pre></div></div></div></div></div>"
     },
     "execution_count": 189,
     "metadata": {},
     "output_type": "execute_result"
    }
   ],
   "source": [
    "model = LinearRegression()\n",
    "model.fit(train_X, train_y)\n",
    "model"
   ]
  },
  {
   "cell_type": "code",
   "execution_count": 190,
   "id": "7db7464c-88d3-492d-9078-42e899757af2",
   "metadata": {},
   "outputs": [
    {
     "data": {
      "text/plain": "   relative_day major.minor.patch  nb_code  predicted nb_code\n0             0             1.4.0   115336       97907.462564\n1            43             1.5.0   129319      105055.317001\n2           211             1.5.1   133424      132778.103516\n3           223             1.5.2   134275      134745.889345\n4           303             1.6.1   152705      147822.164678",
      "text/html": "<div>\n<style scoped>\n    .dataframe tbody tr th:only-of-type {\n        vertical-align: middle;\n    }\n\n    .dataframe tbody tr th {\n        vertical-align: top;\n    }\n\n    .dataframe thead th {\n        text-align: right;\n    }\n</style>\n<table border=\"1\" class=\"dataframe\">\n  <thead>\n    <tr style=\"text-align: right;\">\n      <th></th>\n      <th>relative_day</th>\n      <th>major.minor.patch</th>\n      <th>nb_code</th>\n      <th>predicted nb_code</th>\n    </tr>\n  </thead>\n  <tbody>\n    <tr>\n      <th>0</th>\n      <td>0</td>\n      <td>1.4.0</td>\n      <td>115336</td>\n      <td>97907.462564</td>\n    </tr>\n    <tr>\n      <th>1</th>\n      <td>43</td>\n      <td>1.5.0</td>\n      <td>129319</td>\n      <td>105055.317001</td>\n    </tr>\n    <tr>\n      <th>2</th>\n      <td>211</td>\n      <td>1.5.1</td>\n      <td>133424</td>\n      <td>132778.103516</td>\n    </tr>\n    <tr>\n      <th>3</th>\n      <td>223</td>\n      <td>1.5.2</td>\n      <td>134275</td>\n      <td>134745.889345</td>\n    </tr>\n    <tr>\n      <th>4</th>\n      <td>303</td>\n      <td>1.6.1</td>\n      <td>152705</td>\n      <td>147822.164678</td>\n    </tr>\n  </tbody>\n</table>\n</div>"
     },
     "execution_count": 190,
     "metadata": {},
     "output_type": "execute_result"
    }
   ],
   "source": [
    "all_X = mdates.date2num(maj_min_patch['relative_day'].copy()).reshape(-1, 1)\n",
    "all_X = PolynomialFeatures(degree=polynomial_degree, include_bias=False).fit_transform(all_X)\n",
    "all_y = maj_min_patch['nb_code']\n",
    "\n",
    "predict_y = model.predict(all_X)\n",
    "\n",
    "res_df = maj_min_patch[['relative_day', 'major.minor.patch', 'nb_code']].copy()\n",
    "res_df['predicted nb_code'] = predict_y\n",
    "res_df.head()"
   ]
  },
  {
   "cell_type": "code",
   "execution_count": 191,
   "id": "e67d1b02-fc45-480a-8e03-d9a291636a33",
   "metadata": {},
   "outputs": [
    {
     "data": {
      "text/plain": "<Figure size 640x480 with 1 Axes>",
      "image/png": "[encoded data removed]"
     },
     "metadata": {},
     "output_type": "display_data"
    }
   ],
   "source": [
    "plt.figure()\n",
    "\n",
    "plt.plot(res_df['relative_day'], res_df[\"nb_code\"], label='real line code')\n",
    "plt.plot(res_df['relative_day'], res_df['predicted nb_code'], label='predicted nb_code')\n",
    "plt.plot(res_df['relative_day'], res_df['predicted nb_code'], label='predicted nb_code')\n",
    "\n",
    "plt.legend()\n",
    "plt.show()\n"
   ]
  },
  {
   "cell_type": "code",
   "execution_count": 192,
   "outputs": [
    {
     "data": {
      "text/plain": "0.9547758504793337"
     },
     "execution_count": 192,
     "metadata": {},
     "output_type": "execute_result"
    }
   ],
   "source": [
    "from sklearn.metrics import r2_score\n",
    "r2_score(res_df['nb_code'], res_df['predicted nb_code'])"
   ],
   "metadata": {
    "collapsed": false,
    "pycharm": {
     "name": "#%%\n"
    }
   }
  },
  {
   "cell_type": "code",
   "execution_count": 193,
   "outputs": [
    {
     "data": {
      "text/plain": "832941808.494189"
     },
     "execution_count": 193,
     "metadata": {},
     "output_type": "execute_result"
    }
   ],
   "source": [
    "from sklearn.metrics import mean_squared_error\n",
    "mean_squared_error(res_df['nb_code'], res_df['predicted nb_code'])"
   ],
   "metadata": {
    "collapsed": false,
    "pycharm": {
     "name": "#%%\n"
    }
   }
  },
  {
   "cell_type": "markdown",
   "id": "8bdd2798-1e93-4beb-8339-4e408d3c39c2",
   "metadata": {},
   "source": [
    "### Questions:\n",
    "6. What is the polynomial degree that you adopted to build the model? Why? "
   ]
  },
  {
   "cell_type": "markdown",
   "id": "f3c421f9-c6f2-4350-8ded-a70a974c86d0",
   "metadata": {},
   "source": [
    "4 because the best fit for the prediction is 4 after some test"
   ]
  },
  {
   "cell_type": "markdown",
   "id": "6a98e16e-1114-4f4b-9867-3f60019ee45f",
   "metadata": {},
   "source": [
    "7. What is the coefficient of determination? (R-squared)"
   ]
  },
  {
   "cell_type": "markdown",
   "id": "0954e7aa-cedd-4f1b-bce2-7793c0cf04c7",
   "metadata": {},
   "source": [
    "0.9547758504793337"
   ]
  },
  {
   "cell_type": "markdown",
   "id": "e621e18e-26a2-4cf5-ab5c-162d87b5889d",
   "metadata": {},
   "source": [
    "8. What is the Root mean square error for the forecasted values?"
   ]
  },
  {
   "cell_type": "markdown",
   "id": "e9e7d092-76af-470a-b85b-563ae5613cf8",
   "metadata": {},
   "source": [
    "832941808.494189"
   ]
  },
  {
   "cell_type": "markdown",
   "id": "393f2a07-2dd7-4ab3-86c7-0b0ba07f046b",
   "metadata": {},
   "source": [
    "### Filtering on coding langugage"
   ]
  },
  {
   "cell_type": "markdown",
   "id": "76c3ed66-711b-4f01-af30-dac4f927bc88",
   "metadata": {},
   "source": [
    "Consider the prominent langugages used in this software project and plot the distribution of their LOC in a pie chart for the first and the last versions"
   ]
  },
  {
   "cell_type": "code",
   "execution_count": 198,
   "id": "9fb22e22-5b37-4a67-9d43-dab4121fa83d",
   "metadata": {},
   "outputs": [],
   "source": [
    "# Your code to get the data for LOC of first and last versions\n",
    "eucalyptus_project_path = '../eucalyptus'\n",
    "\n",
    "for tag, val in zip([\"1.4\", \"v4.4.2\"], [\"first\",\"last\"]):\n",
    "\n",
    "    command = f'git -C {eucalyptus_project_path} reset --hard {tag}'\n",
    "    process = subprocess.Popen(command, stdout=subprocess.PIPE, shell=True)\n",
    "    command_2 = f'cloc  --csv --out {val}.csv {eucalyptus_project_path}'\n",
    "    process_2 = subprocess.Popen(command_2, stdout=subprocess.PIPE, shell=True)\n"
   ]
  },
  {
   "cell_type": "code",
   "execution_count": 196,
   "id": "dc14b7fe-b4d2-423c-b9c8-b79eb498ef3c",
   "metadata": {},
   "outputs": [],
   "source": [
    "# Your pie chart code here\n",
    "\n",
    "\n"
   ]
  },
  {
   "cell_type": "markdown",
   "id": "056e7d22-fee2-4efb-ace7-c06b99edbd36",
   "metadata": {},
   "source": [
    "### Question:\n",
    "9. Do you find any significant difference in the distribution of the language used in the software project between its first and the last version? If so, what is the difference and how much is it?"
   ]
  },
  {
   "cell_type": "code",
   "execution_count": null,
   "id": "8397df5e-e0cd-4608-8e28-d94240b7ace9",
   "metadata": {},
   "outputs": [],
   "source": [
    "JAVA"
   ]
  },
  {
   "cell_type": "markdown",
   "id": "44d37ce7-c3ad-4eb9-a7e6-b7f52ac137c1",
   "metadata": {},
   "source": [
    "### Law of increasing growth for coding langugages"
   ]
  },
  {
   "cell_type": "markdown",
   "id": "ededc08c-1bd4-4725-984a-61a71aa240c6",
   "metadata": {},
   "source": [
    "Get the LOC for each of the considered prominent langugages (as above) for each version of the form major.minor.patch  \n",
    "1) Plot the date (x-axis) vs LOC (y-axis) \n",
    "2) Plot the date (x-axis) vs proportional LOC (y-axis). Proportional is LOC of a language/total number of LOC"
   ]
  },
  {
   "cell_type": "code",
   "execution_count": null,
   "id": "ccd66fa9-c455-4339-bf42-e9b881d6ffad",
   "metadata": {},
   "outputs": [],
   "source": [
    "# Your code to get the LOC for each prominent language of each version"
   ]
  },
  {
   "cell_type": "code",
   "execution_count": null,
   "id": "bf843988-362f-4486-9e49-5a641c1d04dc",
   "metadata": {},
   "outputs": [],
   "source": [
    "# Your plotting code here"
   ]
  },
  {
   "cell_type": "markdown",
   "id": "ea3b1876-ad5a-4f90-96e8-ed07e2852101",
   "metadata": {},
   "source": [
    "### Question:\n",
    "10. Does the prominent languages considered by you obey laws of increasing growth?"
   ]
  },
  {
   "cell_type": "markdown",
   "id": "8df7db15-f203-41d6-9bd6-eccf2f9742b5",
   "metadata": {},
   "source": []
  },
  {
   "cell_type": "markdown",
   "id": "478c66e4-4f20-4ed8-98db-70bdcf920fcd",
   "metadata": {},
   "source": [
    "11. Does this software project obey the Law of Increasing Growth?"
   ]
  },
  {
   "cell_type": "markdown",
   "id": "26146858-0cb6-4fd8-9a6b-debef98390b7",
   "metadata": {},
   "source": []
  },
  {
   "cell_type": "markdown",
   "id": "375ae835-c18c-4af3-a730-32d853df034a",
   "metadata": {},
   "source": [
    "### Modify the CLOC parameters"
   ]
  },
  {
   "cell_type": "markdown",
   "id": "b3d71b90-1492-4833-9c0a-c8a0f7446ada",
   "metadata": {},
   "source": [
    "1. Exclude all bank lines and verify if the Law of Increasing Growth still holds good for this filtering"
   ]
  },
  {
   "cell_type": "code",
   "execution_count": null,
   "id": "ff129b14-94ae-460c-bcb3-981180e72db3",
   "metadata": {},
   "outputs": [],
   "source": [
    "# Your code and plot here"
   ]
  },
  {
   "cell_type": "markdown",
   "id": "5cb0cee6-19b3-4e50-8cb5-82eb50736713",
   "metadata": {},
   "source": [
    "2. Exclude all comment lines and verify if the Law of Increasing Growth still holds good for this filtering"
   ]
  },
  {
   "cell_type": "code",
   "execution_count": null,
   "id": "7d971a34-fe97-4793-9864-07b2114ed373",
   "metadata": {},
   "outputs": [],
   "source": [
    "# Your code and plot here"
   ]
  },
  {
   "cell_type": "markdown",
   "id": "16cfd99a-0a91-497d-a1f9-4d7a8d407736",
   "metadata": {},
   "source": [
    "3. Exclude all non-code files (or consider prominent coding langugages used in the project) and and verify if the Law of Increasing Growth still holds good for this filtering"
   ]
  },
  {
   "cell_type": "code",
   "execution_count": null,
   "id": "d4981a7f-f79a-4e62-9ba3-94723a0ad640",
   "metadata": {},
   "outputs": [],
   "source": [
    "# Your code and plot here"
   ]
  },
  {
   "cell_type": "code",
   "execution_count": null,
   "id": "bc0d6002-1014-43d0-8dfc-dae6a8680a04",
   "metadata": {},
   "outputs": [],
   "source": []
  },
  {
   "cell_type": "markdown",
   "id": "5dfd05d1-2dc8-4abc-8d05-639007bf553e",
   "metadata": {},
   "source": [
    "### 2.3 Law of Continuing Change\n",
    "1. Using CLOC tool, find the features such as number of lines of code that are added, modified, removed and same between two consecutive versions\n",
    "2. Consider all the three component versions (major.minor.patch) - Dataset A\n",
    "3. Consider only the minor versions (major.minor) - Dataset B\n",
    "4. Having all the features in the same plot, create two plots (one for Dataset A and another for Dataset B) the outcomes with date on x-axis and the number on y-axis.\n",
    "5. Make a subplot of all the features\n",
    "\n",
    "Code hint:  \n",
    "For each pair of tags, set the original project to the required tag and the copy of the original project to the next tag.  \n",
    "To get the required data in json format - \"command = f'CLOC/cloc --git --diff {first_project_path} {second_project_path} --json'\""
   ]
  },
  {
   "cell_type": "code",
   "execution_count": null,
   "id": "c38f5e8d-245b-4307-9d98-2340cbea06a1",
   "metadata": {},
   "outputs": [],
   "source": [
    "eucalyptus_project_path = '' # your project path here\n",
    "eucalyptus_copy_project_path = '' # your path to the copy of your project here\n",
    "major_minor_patch_versions = '' #set of version that you would like to consider for this analysis"
   ]
  },
  {
   "cell_type": "code",
   "execution_count": null,
   "id": "f0682e1c-dd84-4f31-bdfa-781e5a6ac75f",
   "metadata": {},
   "outputs": [],
   "source": [
    "# Your code here to get the data"
   ]
  },
  {
   "cell_type": "code",
   "execution_count": null,
   "id": "7b5f935d-dc48-4b97-8d5c-9168e372bb47",
   "metadata": {},
   "outputs": [],
   "source": [
    "# Your code here to get the dates corresponding to the tags"
   ]
  },
  {
   "cell_type": "code",
   "execution_count": null,
   "id": "8500a388-8c65-4203-81df-156a9425b67e",
   "metadata": {},
   "outputs": [],
   "source": [
    "# Your plotting code here (all the features in a single plot)"
   ]
  },
  {
   "cell_type": "code",
   "execution_count": null,
   "id": "9505d1a0-2c0d-470a-b545-95680be092f4",
   "metadata": {},
   "outputs": [],
   "source": [
    "# Your plotting code here, different plot for each feature\n",
    "fig,axes = plt.subplots(2,2)"
   ]
  },
  {
   "cell_type": "markdown",
   "id": "a96114cb-aafb-4c57-8bff-af5d309b1994",
   "metadata": {},
   "source": [
    "### Questions:\n",
    "1. Do you find the Law of Continuing Change holding good here? Prove it empirically."
   ]
  },
  {
   "cell_type": "markdown",
   "id": "131fe261-c978-434d-824f-f6e416fb6110",
   "metadata": {},
   "source": []
  },
  {
   "cell_type": "markdown",
   "id": "dd5ee600-da8e-431d-9028-fc3fc3d9f97e",
   "metadata": {},
   "source": [
    "2. Does the law of increasing growth too hold good here?"
   ]
  },
  {
   "cell_type": "markdown",
   "id": "7fe9e863-19a3-4f53-b50e-b8f065615839",
   "metadata": {},
   "source": []
  },
  {
   "cell_type": "markdown",
   "id": "ce62cb54-5d8f-4e65-a50b-b12cd9f6e362",
   "metadata": {},
   "source": [
    "### Law of continuing change for coding languages\n",
    "Consider the prominent languages used in this software project for versions of the form major.minor.patch\n",
    "1. Obtain the number of lines of code that are added, modified, removed and same between two consecutive versions\n",
    "2. Make plots for each parameter (added, modified, removed and same) with date on x-axis  \n",
    "    a) y-axis number of lines of code   \n",
    "    b) y-axis proportional number of lines of code (number of lines of code of that language/total number of lines of code) "
   ]
  },
  {
   "cell_type": "code",
   "execution_count": null,
   "id": "9707b16c-abb1-4ef8-bd77-af85711cd624",
   "metadata": {},
   "outputs": [],
   "source": [
    "# Your code here"
   ]
  },
  {
   "cell_type": "code",
   "execution_count": null,
   "id": "aaf138ba-8d1e-498a-ac34-17c05c1b0b16",
   "metadata": {},
   "outputs": [],
   "source": [
    "# Your plotting code here\n",
    "fig,axes = plt.subplots(2,2)"
   ]
  },
  {
   "cell_type": "markdown",
   "id": "b4297222-6881-4cc5-a335-c707c3c3c0c1",
   "metadata": {},
   "source": [
    "### Question:\n",
    "3. Does the law of continuing change obey here for all the considered prominent langugages? Comment on the rate of growth.  "
   ]
  },
  {
   "cell_type": "markdown",
   "id": "ae7d089a-2bb5-4a18-a6d4-5919fe73a8d9",
   "metadata": {},
   "source": []
  },
  {
   "cell_type": "markdown",
   "id": "ea29d2e5-7f12-46c4-baad-e4abe3406e9f",
   "metadata": {},
   "source": [
    "4. Does this software project obey Law of Continuing Change?"
   ]
  },
  {
   "cell_type": "markdown",
   "id": "0fe3765f-2f31-4ecc-96cf-991cdb610a14",
   "metadata": {},
   "source": []
  },
  {
   "cell_type": "code",
   "execution_count": null,
   "id": "46b3a214-86cd-4f91-9f1c-ca31089a3c21",
   "metadata": {},
   "outputs": [],
   "source": []
  }
 ],
 "metadata": {
  "kernelspec": {
   "name": "python389jvsc74a57bd031f2aee4e71d21fbe5cf8b01ff0e069b9275f58929596ceb00d14d90e3e16cd6",
   "language": "python",
   "display_name": "Python 3.8.9 64-bit"
  },
  "language_info": {
   "codemirror_mode": {
    "name": "ipython",
    "version": 3
   },
   "file_extension": ".py",
   "mimetype": "text/x-python",
   "name": "python",
   "nbconvert_exporter": "python",
   "pygments_lexer": "ipython3",
   "version": "3.8.8"
  }
 },
 "nbformat": 4,
 "nbformat_minor": 5
}